{
 "cells": [
  {
   "cell_type": "markdown",
   "metadata": {},
   "source": [
    "# BMI 535/635: Management & Processing of Large-scale Data\n",
    "\n",
    "#### Author: Michael Mooney (mooneymi@ohsu.edu)\n",
    "\n",
    "## Week 3: Data Storage and Querying Solutions in R"
   ]
  },
  {
   "cell_type": "markdown",
   "metadata": {},
   "source": [
    "1. Introduction\n",
    "2. Learning Objectives\n",
    "3. Resource Profiling\n",
    "4. Review of R Data Types\n",
    "5. Data from dbSNP\n",
    "6. Connecting to Relational DBs\n",
    "7. data.table\n",
    "8. BigMemory\n",
    "9. ff\n",
    "10. HDF5\n",
    "\n",
    "Requirements:\n",
    "\n",
    "- R packages:\n",
    "    - pryr\n",
    "    - RMySQL\n",
    "    - data.table\n",
    "    - bigmemory\n",
    "    - bigalgebra\n",
    "    - ff\n",
    "    - ffbase\n",
    "    - rhdf5\n",
    "    - bit64\n",
    "    - profmem\n",
    "    - parallel\n",
    "- Data files:\n",
    "    - dbSNP annotations (chromosome 1 only): `chr1_reducedCols.txt.gz` (download this from the state server)\n",
    "    - A MySQL config file containing connection parameters: `~/.my.cnf`"
   ]
  },
  {
   "cell_type": "code",
   "execution_count": 1,
   "metadata": {},
   "outputs": [
    {
     "name": "stderr",
     "output_type": "stream",
     "text": [
      "Loading required package: DBI\n",
      "\n",
      "Attaching package: ‘data.table’\n",
      "\n",
      "The following object is masked from ‘package:pryr’:\n",
      "\n",
      "    address\n",
      "\n",
      "Loading required package: bigmemory.sri\n",
      "Loading required package: bit\n",
      "Attaching package bit\n",
      "package:bit (c) 2008-2012 Jens Oehlschlaegel (GPL-2)\n",
      "creators: bit bitwhich\n",
      "coercion: as.logical as.integer as.bit as.bitwhich which\n",
      "operator: ! & | xor != ==\n",
      "querying: print length any all min max range sum summary\n",
      "bit access: length<- [ [<- [[ [[<-\n",
      "for more help type ?bit\n",
      "\n",
      "Attaching package: ‘bit’\n",
      "\n",
      "The following object is masked from ‘package:data.table’:\n",
      "\n",
      "    setattr\n",
      "\n",
      "The following object is masked from ‘package:base’:\n",
      "\n",
      "    xor\n",
      "\n",
      "Attaching package ff\n",
      "- getOption(\"fftempdir\")==\"/var/folders/3r/wws_4jz54ms2t6m0jrz8k_6mg3ll58/T//RtmpsotR0Z\"\n",
      "\n",
      "- getOption(\"ffextension\")==\"ff\"\n",
      "\n",
      "- getOption(\"ffdrop\")==TRUE\n",
      "\n",
      "- getOption(\"fffinonexit\")==TRUE\n",
      "\n",
      "- getOption(\"ffpagesize\")==65536\n",
      "\n",
      "- getOption(\"ffcaching\")==\"mmnoflush\"  -- consider \"ffeachflush\" if your system stalls on large writes\n",
      "\n",
      "- getOption(\"ffbatchbytes\")==16777216 -- consider a different value for tuning your system\n",
      "\n",
      "- getOption(\"ffmaxbytes\")==536870912 -- consider a different value for tuning your system\n",
      "\n",
      "\n",
      "Attaching package: ‘ff’\n",
      "\n",
      "The following objects are masked from ‘package:bit’:\n",
      "\n",
      "    clone, clone.default, clone.list\n",
      "\n",
      "The following object is masked from ‘package:bigmemory’:\n",
      "\n",
      "    is.readonly\n",
      "\n",
      "The following objects are masked from ‘package:utils’:\n",
      "\n",
      "    write.csv, write.csv2\n",
      "\n",
      "The following objects are masked from ‘package:base’:\n",
      "\n",
      "    is.factor, is.ordered\n",
      "\n",
      "\n",
      "Attaching package: ‘ffbase’\n",
      "\n",
      "The following objects are masked from ‘package:ff’:\n",
      "\n",
      "    [.ff, [.ffdf, [<-.ff, [<-.ffdf\n",
      "\n",
      "The following objects are masked from ‘package:base’:\n",
      "\n",
      "    %in%, table\n",
      "\n",
      "Attaching package bit64\n",
      "package:bit64 (c) 2011-2012 Jens Oehlschlaegel\n",
      "creators: integer64 seq :\n",
      "coercion: as.integer64 as.vector as.logical as.integer as.double as.character as.bin\n",
      "logical operator: ! & | xor != == < <= >= >\n",
      "arithmetic operator: + - * / %/% %% ^\n",
      "math: sign abs sqrt log log2 log10\n",
      "math: floor ceiling trunc round\n",
      "querying: is.integer64 is.vector [is.atomic} [length] format print str\n",
      "values: is.na is.nan is.finite is.infinite\n",
      "aggregation: any all min max range sum prod\n",
      "cumulation: diff cummin cummax cumsum cumprod\n",
      "access: length<- [ [<- [[ [[<-\n",
      "combine: c rep cbind rbind as.data.frame\n",
      "WARNING don't use as subscripts\n",
      "WARNING semantics differ from integer\n",
      "for more help type ?bit64\n",
      "\n",
      "Attaching package: ‘bit64’\n",
      "\n",
      "The following object is masked from ‘package:ffbase’:\n",
      "\n",
      "    %in%\n",
      "\n",
      "The following object is masked from ‘package:bit’:\n",
      "\n",
      "    still.identical\n",
      "\n",
      "The following objects are masked from ‘package:base’:\n",
      "\n",
      "    :, %in%, is.double, match, order, rank\n",
      "\n"
     ]
    }
   ],
   "source": [
    "library(pryr)\n",
    "library(RMySQL)\n",
    "library(data.table)\n",
    "library(bigmemory)\n",
    "library(bigalgebra)\n",
    "library(ff)\n",
    "library(ffbase)\n",
    "library(rhdf5)\n",
    "library(bit64)\n",
    "library(profmem)\n",
    "library(parallel)"
   ]
  },
  {
   "cell_type": "markdown",
   "metadata": {},
   "source": [
    "## Introduction"
   ]
  },
  {
   "cell_type": "markdown",
   "metadata": {
    "collapsed": true
   },
   "source": [
    "This is the **R** version of the previous lecture. We'll be addressing the same big-data issues, but this time exploring solutions offered in R. Just as a reminder, here are the problems often faced when working with large data sets:\n",
    "\n",
    "1. Data does not fit into memory\n",
    "    - In particular, this can be a problem when setting up parallel computations, where each process needs the full data\n",
    "    - R can sometimes present unique challenges when it comes to memory usage. For more info see the following:\n",
    "    - ([http://adv-r.had.co.nz/memory.html](http://adv-r.had.co.nz/memory.html))\n",
    "    - `?Memory`\n",
    "2. Accessing (querying) the data is slow\n",
    "3. Data files on-disk are very large (i.e. not easily portable)\n",
    "\n",
    "Potential Solutions:\n",
    "\n",
    "1. Use on-disk storage that is optimized for fast read/write access\n",
    "2. Use data storage that allows for multiple concurrent reads (i.e. can be shared across multiple processes)\n",
    "3. Use data compression\n",
    "\n",
    "### Learning Objectives\n",
    "\n",
    "1. You will learn some basic methods for profiling the amount of resources and time used by computational tasks\n",
    "2. You will learn how to store large datasets in various \"high-performance\" R data structures\n",
    "3. You will learn how to query data in each of the data structures\n",
    "4. You will learn how to convert between these various data storage solutions\n"
   ]
  },
  {
   "cell_type": "markdown",
   "metadata": {},
   "source": [
    "## Resource Profiling\n",
    "\n",
    "`system.time` can be used to measure the runtime of a particular block of code. And there are a number of options for measuring memory usage (`mem_used`, `mem_change`, `memprof`, `lineprof`). Examples are shown below.\n",
    "\n",
    "More information can be found at Hadley Wickham's 'Advanced R' site: \n",
    "\n",
    "[http://adv-r.had.co.nz/Profiling.html](http://adv-r.had.co.nz/Profiling.html)\n",
    "\n",
    "[http://adv-r.had.co.nz/memory.html#memory-profiling](http://adv-r.had.co.nz/memory.html#memory-profiling)"
   ]
  },
  {
   "cell_type": "code",
   "execution_count": 2,
   "metadata": {},
   "outputs": [
    {
     "data": {
      "text/plain": [
       "36.1 MB"
      ]
     },
     "metadata": {},
     "output_type": "display_data"
    }
   ],
   "source": [
    "## Print the amount of memory R is currently using\n",
    "mem_used()"
   ]
  },
  {
   "cell_type": "code",
   "execution_count": 3,
   "metadata": {},
   "outputs": [
    {
     "data": {
      "text/plain": [
       "   user  system elapsed \n",
       "  0.096   0.022   3.121 "
      ]
     },
     "metadata": {},
     "output_type": "display_data"
    }
   ],
   "source": [
    "## A dummy function that simply creates a large list, but returns nothing\n",
    "foo = function(a, n=100) {\n",
    "    Sys.sleep(2)\n",
    "    b = rep(a, n)\n",
    "    Sys.sleep(1)\n",
    "    return(NULL)\n",
    "}\n",
    "\n",
    "## Use system.time to see how long code takes to run\n",
    "system.time({foo(1,10000000)})"
   ]
  },
  {
   "cell_type": "code",
   "execution_count": 4,
   "metadata": {},
   "outputs": [
    {
     "data": {
      "text/plain": [
       "10.4 kB"
      ]
     },
     "metadata": {},
     "output_type": "display_data"
    }
   ],
   "source": [
    "## See the change in memory after a piece of code is run\n",
    "mem_change({foo(1,10000000)})"
   ]
  },
  {
   "cell_type": "code",
   "execution_count": 5,
   "metadata": {},
   "outputs": [
    {
     "data": {
      "text/plain": [
       "36.4 MB"
      ]
     },
     "metadata": {},
     "output_type": "display_data"
    }
   ],
   "source": [
    "mem_used()"
   ]
  },
  {
   "cell_type": "code",
   "execution_count": 6,
   "metadata": {},
   "outputs": [
    {
     "data": {
      "text/html": [
       "<table>\n",
       "<thead><tr><th scope=col>bytes</th><th scope=col>trace</th></tr></thead>\n",
       "<tbody>\n",
       "\t<tr><td>80000040</td><td>foo     </td></tr>\n",
       "</tbody>\n",
       "</table>\n"
      ],
      "text/latex": [
       "\\begin{tabular}{r|ll}\n",
       " bytes & trace\\\\\n",
       "\\hline\n",
       "\t 80000040 & foo     \\\\\n",
       "\\end{tabular}\n"
      ],
      "text/markdown": [
       "\n",
       "bytes | trace | \n",
       "|---|\n",
       "| 80000040 | foo      | \n",
       "\n",
       "\n"
      ],
      "text/plain": [
       "  bytes    trace\n",
       "1 80000040 foo  "
      ]
     },
     "metadata": {},
     "output_type": "display_data"
    }
   ],
   "source": [
    "## profmem displays information about memory allocation for a block of code\n",
    "profmem({foo(1,10000000)})"
   ]
  },
  {
   "cell_type": "markdown",
   "metadata": {},
   "source": [
    "## Review of Basic R Data Types\n",
    "\n",
    "Basic R data types and when to use them:\n",
    "\n",
    "**Vectors**: Vectors store collections of data elements of a single type. R will perform automatic type conversions, so be careful and pay attention to your data types. Vectors can be named, so you can access elements by name or by index. Note: set operations can be performed on vectors.\n",
    "\n",
    "**Lists**: An R list is similar to a Python dictionary because it is a labeled collection of items (you can find an item based on a key). However, R lists are not stored in a way that makes fast lookups possible. If you have a large collection of data and need to repeatedly search for specific items, use an environment instead.\n",
    "\n",
    "**Environments**: An environment can be created and accessed very much like a list, but because of they way it is stored internally, data access is much faster. \n",
    "\n",
    "**DataFrames**: A table data structure (the inspiration for the Pandas DataFrame in Python), which can hold columns of different data types.\n"
   ]
  },
  {
   "cell_type": "code",
   "execution_count": 7,
   "metadata": {},
   "outputs": [],
   "source": [
    "## Create some example data\n",
    "VECTOR1 = sample(c(1:1000000), 1000000)\n",
    "VECTOR2 = c(1:1000000)\n",
    "LIST1 = as.list(VECTOR2)\n",
    "names(LIST1) = as.character(VECTOR1)\n",
    "DF1 = data.frame(A=VECTOR1, B=VECTOR2)\n",
    "rownames(DF1) = as.character(VECTOR1)"
   ]
  },
  {
   "cell_type": "code",
   "execution_count": 8,
   "metadata": {},
   "outputs": [
    {
     "data": {
      "text/plain": [
       "200 MB"
      ]
     },
     "metadata": {},
     "output_type": "display_data"
    }
   ],
   "source": [
    "mem_used()"
   ]
  },
  {
   "cell_type": "code",
   "execution_count": 9,
   "metadata": {},
   "outputs": [
    {
     "name": "stdout",
     "output_type": "stream",
     "text": [
      "[1] \"Vector:\"\n",
      "[1] 297206\n",
      "   user  system elapsed \n",
      "  0.006   0.000   0.007 \n",
      "[1] \"Vector #2:\"\n",
      "[1] 297206\n",
      "   user  system elapsed \n",
      "  0.014   0.001   0.015 \n",
      "[1] \"List:\"\n",
      "[1] 297206\n",
      "   user  system elapsed \n",
      "  0.005   0.000   0.005 \n",
      "[1] \"DataFrame:\"\n",
      "[1] 297206\n",
      "   user  system elapsed \n",
      "  0.005   0.001   0.006 \n",
      "[1] \"DataFrame #2:\"\n",
      "[1] 297206\n",
      "   user  system elapsed \n",
      "  0.014   0.001   0.015 \n",
      "[1] \"DataFrame #3:\"\n",
      "[1] 297206\n",
      "   user  system elapsed \n",
      "  0.021   0.001   0.021 \n"
     ]
    }
   ],
   "source": [
    "## How long does it take to find an item?\n",
    "## Using a vector\n",
    "t = system.time({idx = match(567890, VECTOR1)})\n",
    "print(\"Vector:\")\n",
    "print(idx)\n",
    "print(t)\n",
    "\n",
    "## Using a vector version 2\n",
    "t = system.time({idx = which(VECTOR1 == 567890)})\n",
    "print(\"Vector #2:\")\n",
    "print(idx)\n",
    "print(t)\n",
    "\n",
    "## Using a list\n",
    "t = system.time({idx = LIST1[[as.character(567890)]]})\n",
    "print(\"List:\")\n",
    "print(idx)\n",
    "print(t)\n",
    "\n",
    "## Using a dataframe\n",
    "t = system.time({idx = match(567890, DF1$A)})\n",
    "print(\"DataFrame:\")\n",
    "print(idx)\n",
    "print(t)\n",
    "\n",
    "## Using a dataframe version 2\n",
    "t = system.time({idx = DF1$B[DF1$A == 567890]})\n",
    "print(\"DataFrame #2:\")\n",
    "print(idx)\n",
    "print(t)\n",
    "\n",
    "## Using a dataframe version 3 (rownames)\n",
    "t = system.time({idx = DF1[as.character(567890), 'B']})\n",
    "print(\"DataFrame #3:\")\n",
    "print(idx)\n",
    "print(t)"
   ]
  },
  {
   "cell_type": "code",
   "execution_count": 10,
   "metadata": {},
   "outputs": [
    {
     "name": "stdout",
     "output_type": "stream",
     "text": [
      "[1] \"Vector:\"\n",
      "[1] TRUE\n",
      "   user  system elapsed \n",
      "  0.006   0.001   0.007 \n",
      "[1] \"List:\"\n",
      "[1] TRUE\n",
      "   user  system elapsed \n",
      "  0.007   0.001   0.006 \n",
      "[1] \"DataFrame:\"\n",
      "[1] TRUE\n",
      "   user  system elapsed \n",
      "  0.006   0.000   0.006 \n",
      "[1] \"DataFrame #2:\"\n",
      "[1] TRUE\n",
      "   user  system elapsed \n",
      "  0.007   0.001   0.008 \n"
     ]
    }
   ],
   "source": [
    "## How long does it take to determine if an item exists?\n",
    "x = 567890\n",
    "## Using a vector\n",
    "t = system.time({test = x %in% VECTOR1})\n",
    "print(\"Vector:\")\n",
    "print(test)\n",
    "print(t)\n",
    "\n",
    "## Using a list\n",
    "t = system.time({test = as.character(x) %in% names(LIST1)})\n",
    "print(\"List:\")\n",
    "print(test)\n",
    "print(t)\n",
    "\n",
    "## Using a dataframe\n",
    "t = system.time({test = x %in% DF1$A})\n",
    "print(\"DataFrame:\")\n",
    "print(test)\n",
    "print(t)\n",
    "\n",
    "## Using a dataframe version 2\n",
    "t = system.time({test = x %in% rownames(DF1)})\n",
    "print(\"DataFrame #2:\")\n",
    "print(test)\n",
    "print(t)"
   ]
  },
  {
   "cell_type": "code",
   "execution_count": 11,
   "metadata": {},
   "outputs": [],
   "source": [
    "## Now let's compare a list to an environment\n",
    "ENV1 = as.environment(LIST1)"
   ]
  },
  {
   "cell_type": "code",
   "execution_count": 12,
   "metadata": {},
   "outputs": [
    {
     "data": {
      "text/plain": [
       "378 MB"
      ]
     },
     "metadata": {},
     "output_type": "display_data"
    }
   ],
   "source": [
    "mem_used()"
   ]
  },
  {
   "cell_type": "code",
   "execution_count": 13,
   "metadata": {},
   "outputs": [
    {
     "name": "stdout",
     "output_type": "stream",
     "text": [
      "[1] \"List:\"\n",
      "[1] 297206\n",
      "   user  system elapsed \n",
      "  0.006   0.001   0.006 \n",
      "[1] \"Environment:\"\n",
      "[1] 297206\n",
      "   user  system elapsed \n",
      "  0.000   0.000   0.001 \n"
     ]
    }
   ],
   "source": [
    "## How long does it take to find an item?\n",
    "## Using a list\n",
    "t = system.time({idx = LIST1[[as.character(567890)]]})\n",
    "print(\"List:\")\n",
    "print(idx)\n",
    "print(t)\n",
    "\n",
    "## Using an environment\n",
    "t = system.time({idx = ENV1[[as.character(567890)]]})\n",
    "print(\"Environment:\")\n",
    "print(idx)\n",
    "print(t)"
   ]
  },
  {
   "cell_type": "code",
   "execution_count": 14,
   "metadata": {},
   "outputs": [
    {
     "name": "stdout",
     "output_type": "stream",
     "text": [
      "[1] \"List:\"\n",
      "[1] TRUE\n",
      "   user  system elapsed \n",
      "  0.006   0.001   0.007 \n",
      "[1] \"Environment:\"\n",
      "[1] TRUE\n",
      "   user  system elapsed \n",
      "      0       0       0 \n"
     ]
    }
   ],
   "source": [
    "## How long does it take to determine if an item exists?\n",
    "x = 567890\n",
    "## Using a list\n",
    "t = system.time({test = as.character(x) %in% names(LIST1)})\n",
    "print(\"List:\")\n",
    "print(test)\n",
    "print(t)\n",
    "\n",
    "## Using a list\n",
    "t = system.time({test = exists(as.character(x), where=ENV1)})\n",
    "print(\"Environment:\")\n",
    "print(test)\n",
    "print(t)"
   ]
  },
  {
   "cell_type": "markdown",
   "metadata": {},
   "source": [
    "## dbSNP Dataset\n",
    "\n",
    "For the following examples, we'll be using data from dbSNP, which contains information about all single nucleotide polymorphisms (SNPs) on human chromosome 1. The data file is a tab-delimited text file containing four columns: the 'rs' number of the SNP, the chromosome, the position, and a comma-separated list of genes at the same location. Note: the file contains a multi-line header."
   ]
  },
  {
   "cell_type": "code",
   "execution_count": 15,
   "metadata": {},
   "outputs": [
    {
     "name": "stdout",
     "output_type": "stream",
     "text": [
      " [1] \"dbSNP Chromosome Report\"                                                                 \n",
      " [2] \"Refer to ftp://ftp.ncbi.nlm.nih.gov/snp/00readme for documentation on tabular data below\"\n",
      " [3] \"\"                                                                                        \n",
      " [4] \"rs#\\tchr\\tchr\\tlocal\"                                                                    \n",
      " [5] \"\\t\\tpos\\tloci\"                                                                           \n",
      " [6] \"\"                                                                                        \n",
      " [7] \"\"                                                                                        \n",
      " [8] \"171\\t1\\t175261679\\t\"                                                                     \n",
      " [9] \"242\\t1\\t20869461\\t\"                                                                      \n",
      "[10] \"538\\t1\\t6160958\\tKCNAB2\"                                                                 \n"
     ]
    }
   ],
   "source": [
    "print(system(\"head ./xdata/chr1_reducedCols.txt\", intern=TRUE))"
   ]
  },
  {
   "cell_type": "markdown",
   "metadata": {},
   "source": [
    "## Connecting to Relational DBs in R\n",
    "\n",
    "We'll be connecting to the same DB as last time. The R package `RMySQL` will connect to the database using connection settings stored in a configuration file in your home directory (`~/.my.cnf`). The file should contain 'groups' of settings for databases that you connect to frequently. For example, the following should be entered in the configuration file to allow you to connect to a database called 'bmi535' (the square brackets indicate a 'group', and you can have multiple of these in the same file).\n",
    "\n",
    "    [bmi535_snps]\n",
    "    host=localhost\n",
    "    user=mooneymi\n",
    "    password=mypassword\n",
    "    database=bmi535_snps"
   ]
  },
  {
   "cell_type": "code",
   "execution_count": 16,
   "metadata": {},
   "outputs": [],
   "source": [
    "## Connect to the MySQL database using connection settings defined in ~/.my.cnf\n",
    "conn = dbConnect(RMySQL::MySQL(), group=\"bmi535_snps\")"
   ]
  },
  {
   "cell_type": "code",
   "execution_count": 17,
   "metadata": {},
   "outputs": [
    {
     "data": {
      "text/plain": [
       "   user  system elapsed \n",
       "  0.004   0.000   5.398 "
      ]
     },
     "metadata": {},
     "output_type": "display_data"
    }
   ],
   "source": [
    "## Let's query the DB\n",
    "system.time({query = \"SELECT * FROM snps WHERE chr = 1 AND pos = 225512846 AND loci = 'DNAH14';\"\n",
    "res = dbSendQuery(conn, query)\n",
    "rows = dbFetch(res)})"
   ]
  },
  {
   "cell_type": "code",
   "execution_count": 18,
   "metadata": {},
   "outputs": [
    {
     "data": {
      "text/html": [
       "<table>\n",
       "<thead><tr><th scope=col>rs</th><th scope=col>chr</th><th scope=col>pos</th><th scope=col>loci</th></tr></thead>\n",
       "<tbody>\n",
       "\t<tr><td>189425743</td><td>1        </td><td>225512846</td><td>DNAH14   </td></tr>\n",
       "</tbody>\n",
       "</table>\n"
      ],
      "text/latex": [
       "\\begin{tabular}{r|llll}\n",
       " rs & chr & pos & loci\\\\\n",
       "\\hline\n",
       "\t 189425743 & 1         & 225512846 & DNAH14   \\\\\n",
       "\\end{tabular}\n"
      ],
      "text/markdown": [
       "\n",
       "rs | chr | pos | loci | \n",
       "|---|\n",
       "| 189425743 | 1         | 225512846 | DNAH14    | \n",
       "\n",
       "\n"
      ],
      "text/plain": [
       "  rs        chr pos       loci  \n",
       "1 189425743 1   225512846 DNAH14"
      ]
     },
     "metadata": {},
     "output_type": "display_data"
    },
    {
     "data": {
      "text/html": [
       "TRUE"
      ],
      "text/latex": [
       "TRUE"
      ],
      "text/markdown": [
       "TRUE"
      ],
      "text/plain": [
       "[1] TRUE"
      ]
     },
     "metadata": {},
     "output_type": "display_data"
    }
   ],
   "source": [
    "rows\n",
    "dbClearResult(res)"
   ]
  },
  {
   "cell_type": "code",
   "execution_count": 19,
   "metadata": {},
   "outputs": [
    {
     "data": {
      "text/plain": [
       "   user  system elapsed \n",
       "  0.002   0.000   0.014 "
      ]
     },
     "metadata": {},
     "output_type": "display_data"
    }
   ],
   "source": [
    "## Now let's query the DB using the indexed table\n",
    "system.time({query = \"SELECT * FROM snps_idx WHERE chr = 1 AND pos = 225512846 AND loci = 'DNAH14';\"\n",
    "res = dbSendQuery(conn, query)\n",
    "rows = dbFetch(res)})"
   ]
  },
  {
   "cell_type": "code",
   "execution_count": 20,
   "metadata": {},
   "outputs": [
    {
     "data": {
      "text/html": [
       "<table>\n",
       "<thead><tr><th scope=col>rs</th><th scope=col>chr</th><th scope=col>pos</th><th scope=col>loci</th></tr></thead>\n",
       "<tbody>\n",
       "\t<tr><td>189425743</td><td>1        </td><td>225512846</td><td>DNAH14   </td></tr>\n",
       "</tbody>\n",
       "</table>\n"
      ],
      "text/latex": [
       "\\begin{tabular}{r|llll}\n",
       " rs & chr & pos & loci\\\\\n",
       "\\hline\n",
       "\t 189425743 & 1         & 225512846 & DNAH14   \\\\\n",
       "\\end{tabular}\n"
      ],
      "text/markdown": [
       "\n",
       "rs | chr | pos | loci | \n",
       "|---|\n",
       "| 189425743 | 1         | 225512846 | DNAH14    | \n",
       "\n",
       "\n"
      ],
      "text/plain": [
       "  rs        chr pos       loci  \n",
       "1 189425743 1   225512846 DNAH14"
      ]
     },
     "metadata": {},
     "output_type": "display_data"
    },
    {
     "data": {
      "text/html": [
       "TRUE"
      ],
      "text/latex": [
       "TRUE"
      ],
      "text/markdown": [
       "TRUE"
      ],
      "text/plain": [
       "[1] TRUE"
      ]
     },
     "metadata": {},
     "output_type": "display_data"
    }
   ],
   "source": [
    "rows\n",
    "dbClearResult(res)"
   ]
  },
  {
   "cell_type": "code",
   "execution_count": 21,
   "metadata": {},
   "outputs": [
    {
     "data": {
      "text/html": [
       "TRUE"
      ],
      "text/latex": [
       "TRUE"
      ],
      "text/markdown": [
       "TRUE"
      ],
      "text/plain": [
       "[1] TRUE"
      ]
     },
     "metadata": {},
     "output_type": "display_data"
    }
   ],
   "source": [
    "## Disconnect from the DB\n",
    "dbDisconnect(conn)"
   ]
  },
  {
   "cell_type": "markdown",
   "metadata": {},
   "source": [
    "## `data.table`\n",
    "\n",
    "The `data.table` package implements what is essentially an optimized dataframe. "
   ]
  },
  {
   "cell_type": "code",
   "execution_count": 22,
   "metadata": {},
   "outputs": [
    {
     "data": {
      "text/plain": [
       "378 MB"
      ]
     },
     "metadata": {},
     "output_type": "display_data"
    },
    {
     "data": {
      "text/plain": [
       "   user  system elapsed \n",
       "126.335   1.134 127.571 "
      ]
     },
     "metadata": {},
     "output_type": "display_data"
    },
    {
     "data": {
      "text/plain": [
       "753 MB"
      ]
     },
     "metadata": {},
     "output_type": "display_data"
    }
   ],
   "source": [
    "## Let's start by loading the data into a standard R dataframe\n",
    "## Note we can load directly from a compressed file (gzip)\n",
    "## This takes a few minutes\n",
    "mem_used()\n",
    "system.time({snps = read.delim('./xdata/chr1_reducedCols.txt.gz', header=F, skip=7, sep='\\t', \n",
    "                               col.names=c('rs', 'chr', 'pos', 'loci'), as.is=T, na.strings=c('NA', '', ' '))})\n",
    "mem_used()"
   ]
  },
  {
   "cell_type": "code",
   "execution_count": 23,
   "metadata": {},
   "outputs": [
    {
     "data": {
      "text/html": [
       "<ol class=list-inline>\n",
       "\t<li>12237943</li>\n",
       "\t<li>4</li>\n",
       "</ol>\n"
      ],
      "text/latex": [
       "\\begin{enumerate*}\n",
       "\\item 12237943\n",
       "\\item 4\n",
       "\\end{enumerate*}\n"
      ],
      "text/markdown": [
       "1. 12237943\n",
       "2. 4\n",
       "\n",
       "\n"
      ],
      "text/plain": [
       "[1] 12237943        4"
      ]
     },
     "metadata": {},
     "output_type": "display_data"
    }
   ],
   "source": [
    "## Get the size of the dataframe\n",
    "dim(snps)"
   ]
  },
  {
   "cell_type": "code",
   "execution_count": 24,
   "metadata": {},
   "outputs": [
    {
     "data": {
      "text/html": [
       "<table>\n",
       "<thead><tr><th scope=col>rs</th><th scope=col>chr</th><th scope=col>pos</th><th scope=col>loci</th></tr></thead>\n",
       "<tbody>\n",
       "\t<tr><td>171      </td><td>1        </td><td>175261679</td><td>NA       </td></tr>\n",
       "\t<tr><td>242      </td><td>1        </td><td> 20869461</td><td>NA       </td></tr>\n",
       "\t<tr><td>538      </td><td>1        </td><td>  6160958</td><td>KCNAB2   </td></tr>\n",
       "\t<tr><td>546      </td><td>1        </td><td> 93617546</td><td>TMED5    </td></tr>\n",
       "\t<tr><td>549      </td><td>1        </td><td> 15546825</td><td>TMEM51   </td></tr>\n",
       "\t<tr><td>568      </td><td>1        </td><td>203713133</td><td>ATP2B4   </td></tr>\n",
       "</tbody>\n",
       "</table>\n"
      ],
      "text/latex": [
       "\\begin{tabular}{r|llll}\n",
       " rs & chr & pos & loci\\\\\n",
       "\\hline\n",
       "\t 171       & 1         & 175261679 & NA       \\\\\n",
       "\t 242       & 1         &  20869461 & NA       \\\\\n",
       "\t 538       & 1         &   6160958 & KCNAB2   \\\\\n",
       "\t 546       & 1         &  93617546 & TMED5    \\\\\n",
       "\t 549       & 1         &  15546825 & TMEM51   \\\\\n",
       "\t 568       & 1         & 203713133 & ATP2B4   \\\\\n",
       "\\end{tabular}\n"
      ],
      "text/markdown": [
       "\n",
       "rs | chr | pos | loci | \n",
       "|---|---|---|---|---|---|\n",
       "| 171       | 1         | 175261679 | NA        | \n",
       "| 242       | 1         |  20869461 | NA        | \n",
       "| 538       | 1         |   6160958 | KCNAB2    | \n",
       "| 546       | 1         |  93617546 | TMED5     | \n",
       "| 549       | 1         |  15546825 | TMEM51    | \n",
       "| 568       | 1         | 203713133 | ATP2B4    | \n",
       "\n",
       "\n"
      ],
      "text/plain": [
       "  rs  chr pos       loci  \n",
       "1 171 1   175261679 NA    \n",
       "2 242 1    20869461 NA    \n",
       "3 538 1     6160958 KCNAB2\n",
       "4 546 1    93617546 TMED5 \n",
       "5 549 1    15546825 TMEM51\n",
       "6 568 1   203713133 ATP2B4"
      ]
     },
     "metadata": {},
     "output_type": "display_data"
    }
   ],
   "source": [
    "## View the first few rows\n",
    "head(snps)"
   ]
  },
  {
   "cell_type": "code",
   "execution_count": 25,
   "metadata": {},
   "outputs": [
    {
     "data": {
      "text/html": [
       "<dl class=dl-horizontal>\n",
       "\t<dt>rs</dt>\n",
       "\t\t<dd>'integer'</dd>\n",
       "\t<dt>chr</dt>\n",
       "\t\t<dd>'integer'</dd>\n",
       "\t<dt>pos</dt>\n",
       "\t\t<dd>'integer'</dd>\n",
       "\t<dt>loci</dt>\n",
       "\t\t<dd>'character'</dd>\n",
       "</dl>\n"
      ],
      "text/latex": [
       "\\begin{description*}\n",
       "\\item[rs] 'integer'\n",
       "\\item[chr] 'integer'\n",
       "\\item[pos] 'integer'\n",
       "\\item[loci] 'character'\n",
       "\\end{description*}\n"
      ],
      "text/markdown": [
       "rs\n",
       ":   'integer'chr\n",
       ":   'integer'pos\n",
       ":   'integer'loci\n",
       ":   'character'\n",
       "\n"
      ],
      "text/plain": [
       "         rs         chr         pos        loci \n",
       "  \"integer\"   \"integer\"   \"integer\" \"character\" "
      ]
     },
     "metadata": {},
     "output_type": "display_data"
    }
   ],
   "source": [
    "## Let's look at the data types for each column\n",
    "sapply(snps, class)"
   ]
  },
  {
   "cell_type": "markdown",
   "metadata": {},
   "source": [
    "****It's important to note here that (IMO) R does a better job with missing values and data types than Pandas. For example, missing values are allowed in both character and numeric columns, and don't require special treatment. Of course, we saw that the data cleaning in Pandas was fairly easy if you know what to look for.**"
   ]
  },
  {
   "cell_type": "code",
   "execution_count": 26,
   "metadata": {},
   "outputs": [
    {
     "data": {
      "text/plain": [
       "   user  system elapsed \n",
       "  0.743   0.072   0.817 "
      ]
     },
     "metadata": {},
     "output_type": "display_data"
    },
    {
     "data": {
      "text/html": [
       "<table>\n",
       "<thead><tr><th></th><th scope=col>rs</th><th scope=col>chr</th><th scope=col>pos</th><th scope=col>loci</th></tr></thead>\n",
       "<tbody>\n",
       "\t<tr><th scope=row>3456789</th><td>189425743</td><td>1        </td><td>225512846</td><td>DNAH14   </td></tr>\n",
       "</tbody>\n",
       "</table>\n"
      ],
      "text/latex": [
       "\\begin{tabular}{r|llll}\n",
       "  & rs & chr & pos & loci\\\\\n",
       "\\hline\n",
       "\t3456789 & 189425743 & 1         & 225512846 & DNAH14   \\\\\n",
       "\\end{tabular}\n"
      ],
      "text/markdown": [
       "\n",
       "| <!--/--> | rs | chr | pos | loci | \n",
       "|---|\n",
       "| 3456789 | 189425743 | 1         | 225512846 | DNAH14    | \n",
       "\n",
       "\n"
      ],
      "text/plain": [
       "        rs        chr pos       loci  \n",
       "3456789 189425743 1   225512846 DNAH14"
      ]
     },
     "metadata": {},
     "output_type": "display_data"
    }
   ],
   "source": [
    "## Search the dataframe for a specific row\n",
    "## Note: here we wrap the condition inside which() to exclude rows with NAs\n",
    "system.time({row = snps[which(with(snps, chr==1 & pos==225512846 & loci=='DNAH14')), ]})\n",
    "row"
   ]
  },
  {
   "cell_type": "code",
   "execution_count": 27,
   "metadata": {},
   "outputs": [
    {
     "data": {
      "text/plain": [
       "   user  system elapsed \n",
       "  0.212   0.013   0.225 "
      ]
     },
     "metadata": {},
     "output_type": "display_data"
    },
    {
     "data": {
      "text/html": [
       "<table>\n",
       "<thead><tr><th></th><th scope=col>rs</th><th scope=col>chr</th><th scope=col>pos</th><th scope=col>loci</th></tr></thead>\n",
       "<tbody>\n",
       "\t<tr><th scope=row>3456789</th><td>189425743</td><td>1        </td><td>225512846</td><td>DNAH14   </td></tr>\n",
       "</tbody>\n",
       "</table>\n"
      ],
      "text/latex": [
       "\\begin{tabular}{r|llll}\n",
       "  & rs & chr & pos & loci\\\\\n",
       "\\hline\n",
       "\t3456789 & 189425743 & 1         & 225512846 & DNAH14   \\\\\n",
       "\\end{tabular}\n"
      ],
      "text/markdown": [
       "\n",
       "| <!--/--> | rs | chr | pos | loci | \n",
       "|---|\n",
       "| 3456789 | 189425743 | 1         | 225512846 | DNAH14    | \n",
       "\n",
       "\n"
      ],
      "text/plain": [
       "        rs        chr pos       loci  \n",
       "3456789 189425743 1   225512846 DNAH14"
      ]
     },
     "metadata": {},
     "output_type": "display_data"
    }
   ],
   "source": [
    "## Don't make the query more complicated than it needs to be\n",
    "system.time({row = snps[which(with(snps, pos==225512846)), ]})\n",
    "row"
   ]
  },
  {
   "cell_type": "markdown",
   "metadata": {
    "collapsed": true
   },
   "source": [
    "### Load Data into a `data.table`"
   ]
  },
  {
   "cell_type": "code",
   "execution_count": 28,
   "metadata": {},
   "outputs": [
    {
     "data": {
      "text/plain": [
       "245 MB"
      ]
     },
     "metadata": {},
     "output_type": "display_data"
    }
   ],
   "source": [
    "## Load SNP data into data.table\n",
    "mem_change({snps_dt = as.data.table(snps)})"
   ]
  },
  {
   "cell_type": "code",
   "execution_count": 29,
   "metadata": {},
   "outputs": [
    {
     "data": {
      "text/plain": [
       "   user  system elapsed \n",
       "  0.688   0.040   0.731 "
      ]
     },
     "metadata": {},
     "output_type": "display_data"
    },
    {
     "data": {
      "text/html": [
       "<table>\n",
       "<thead><tr><th scope=col>rs</th><th scope=col>chr</th><th scope=col>pos</th><th scope=col>loci</th></tr></thead>\n",
       "<tbody>\n",
       "\t<tr><td>189425743</td><td>1        </td><td>225512846</td><td>DNAH14   </td></tr>\n",
       "</tbody>\n",
       "</table>\n"
      ],
      "text/latex": [
       "\\begin{tabular}{r|llll}\n",
       " rs & chr & pos & loci\\\\\n",
       "\\hline\n",
       "\t 189425743 & 1         & 225512846 & DNAH14   \\\\\n",
       "\\end{tabular}\n"
      ],
      "text/markdown": [
       "\n",
       "rs | chr | pos | loci | \n",
       "|---|\n",
       "| 189425743 | 1         | 225512846 | DNAH14    | \n",
       "\n",
       "\n"
      ],
      "text/plain": [
       "  rs        chr pos       loci  \n",
       "1 189425743 1   225512846 DNAH14"
      ]
     },
     "metadata": {},
     "output_type": "display_data"
    }
   ],
   "source": [
    "## Query the data.table\n",
    "system.time({row = snps_dt[chr==1 & pos==225512846 & loci=='DNAH14',]})\n",
    "row"
   ]
  },
  {
   "cell_type": "code",
   "execution_count": 30,
   "metadata": {},
   "outputs": [],
   "source": [
    "## Add a key to the data.table\n",
    "setkey(snps_dt, pos)"
   ]
  },
  {
   "cell_type": "code",
   "execution_count": 31,
   "metadata": {},
   "outputs": [
    {
     "data": {
      "text/plain": [
       "   user  system elapsed \n",
       "  0.578   0.041   0.620 "
      ]
     },
     "metadata": {},
     "output_type": "display_data"
    },
    {
     "data": {
      "text/html": [
       "<table>\n",
       "<thead><tr><th scope=col>rs</th><th scope=col>chr</th><th scope=col>pos</th><th scope=col>loci</th></tr></thead>\n",
       "<tbody>\n",
       "\t<tr><td>189425743</td><td>1        </td><td>225512846</td><td>DNAH14   </td></tr>\n",
       "</tbody>\n",
       "</table>\n"
      ],
      "text/latex": [
       "\\begin{tabular}{r|llll}\n",
       " rs & chr & pos & loci\\\\\n",
       "\\hline\n",
       "\t 189425743 & 1         & 225512846 & DNAH14   \\\\\n",
       "\\end{tabular}\n"
      ],
      "text/markdown": [
       "\n",
       "rs | chr | pos | loci | \n",
       "|---|\n",
       "| 189425743 | 1         | 225512846 | DNAH14    | \n",
       "\n",
       "\n"
      ],
      "text/plain": [
       "  rs        chr pos       loci  \n",
       "1 189425743 1   225512846 DNAH14"
      ]
     },
     "metadata": {},
     "output_type": "display_data"
    }
   ],
   "source": [
    "## Query the data.table with key\n",
    "system.time({row = snps_dt[chr==1 & pos==225512846 & loci=='DNAH14']})\n",
    "row"
   ]
  },
  {
   "cell_type": "code",
   "execution_count": 32,
   "metadata": {},
   "outputs": [
    {
     "data": {
      "text/plain": [
       "   user  system elapsed \n",
       "  0.014   0.001   0.016 "
      ]
     },
     "metadata": {},
     "output_type": "display_data"
    },
    {
     "data": {
      "text/html": [
       "<table>\n",
       "<thead><tr><th scope=col>rs</th><th scope=col>chr</th><th scope=col>pos</th><th scope=col>loci</th></tr></thead>\n",
       "<tbody>\n",
       "\t<tr><td>189425743</td><td>1        </td><td>225512846</td><td>DNAH14   </td></tr>\n",
       "</tbody>\n",
       "</table>\n"
      ],
      "text/latex": [
       "\\begin{tabular}{r|llll}\n",
       " rs & chr & pos & loci\\\\\n",
       "\\hline\n",
       "\t 189425743 & 1         & 225512846 & DNAH14   \\\\\n",
       "\\end{tabular}\n"
      ],
      "text/markdown": [
       "\n",
       "rs | chr | pos | loci | \n",
       "|---|\n",
       "| 189425743 | 1         | 225512846 | DNAH14    | \n",
       "\n",
       "\n"
      ],
      "text/plain": [
       "  rs        chr pos       loci  \n",
       "1 189425743 1   225512846 DNAH14"
      ]
     },
     "metadata": {},
     "output_type": "display_data"
    }
   ],
   "source": [
    "## Matching on only the key improves performance significantly over \n",
    "## a regular dataframe\n",
    "system.time({row = snps_dt[pos==225512846]})\n",
    "row"
   ]
  },
  {
   "cell_type": "markdown",
   "metadata": {},
   "source": [
    "## BigMemory\n",
    "\n",
    "The `bigmemory` package allows for storing large datasets in shared-memory and file-backed data structures. This allows for large data structures to be shared across multiple R processes to facilitate efficient parallel processing. \n",
    "\n",
    "One caveat is that `bigmemory` creates matrices, which will handle only a single data type, unlike dataframes. By default, character columns in dataframes will be converted to factors and factors converted to numeric levels. The `ff` package discussed below may be a better solution if you must have multiple data types in the same object."
   ]
  },
  {
   "cell_type": "code",
   "execution_count": 33,
   "metadata": {},
   "outputs": [
    {
     "data": {
      "text/html": [
       "TRUE"
      ],
      "text/latex": [
       "TRUE"
      ],
      "text/markdown": [
       "TRUE"
      ],
      "text/plain": [
       "[1] TRUE"
      ]
     },
     "metadata": {},
     "output_type": "display_data"
    }
   ],
   "source": [
    "## Let's create a file-backed bigmatrix object using only \n",
    "## the first 3 columns of the snps dataframe\n",
    "## First check that the file doesn't exist\n",
    "if (file.exists(\"./xdata/snps_bigmem.bin\")) {\n",
    "    file.remove(\"./xdata/snps_bigmem.bin\")\n",
    "    file.remove(\"./xdata/snps_bigmem.bin.desc\")\n",
    "}"
   ]
  },
  {
   "cell_type": "code",
   "execution_count": 34,
   "metadata": {},
   "outputs": [
    {
     "name": "stderr",
     "output_type": "stream",
     "text": [
      "Warning message in filebacked.big.matrix(nrow = nrow, ncol = ncol, type = type, :\n",
      "“No descriptor file given, it will be named snps_bigmem.bin.desc”"
     ]
    },
    {
     "data": {
      "text/plain": [
       "115 kB"
      ]
     },
     "metadata": {},
     "output_type": "display_data"
    }
   ],
   "source": [
    "## Create a bigmatrix object with the first three columns of the SNPs dataframe (all integers)\n",
    "## Note: we are first converting the dataframe to a numeric matrix\n",
    "mem_change({snps_bm = as.big.matrix(as.matrix(snps[,1:3]), type=\"integer\", backingfile=\"snps_bigmem.bin\", backingpath=\"./xdata\")})"
   ]
  },
  {
   "cell_type": "code",
   "execution_count": 35,
   "metadata": {},
   "outputs": [
    {
     "name": "stdout",
     "output_type": "stream",
     "text": [
      "[1] \"-rw-r--r--  1 mooneymi  OHSUM01\\\\Domain Users  146855317 Jan 18 15:29 ./xdata/snps_bigmem.bin\"     \n",
      "[2] \"-rw-r--r--  1 mooneymi  OHSUM01\\\\Domain Users        494 Jan 18 15:29 ./xdata/snps_bigmem.bin.desc\"\n"
     ]
    }
   ],
   "source": [
    "## How much space is used on disk\n",
    "print(system(\"ls -lt ./xdata/snps_bigmem*\", intern=TRUE))"
   ]
  },
  {
   "cell_type": "code",
   "execution_count": 36,
   "metadata": {},
   "outputs": [
    {
     "data": {
      "text/html": [
       "<table>\n",
       "<thead><tr><th scope=col>rs</th><th scope=col>chr</th><th scope=col>pos</th></tr></thead>\n",
       "<tbody>\n",
       "\t<tr><td>171      </td><td>1        </td><td>175261679</td></tr>\n",
       "\t<tr><td>242      </td><td>1        </td><td> 20869461</td></tr>\n",
       "\t<tr><td>538      </td><td>1        </td><td>  6160958</td></tr>\n",
       "\t<tr><td>546      </td><td>1        </td><td> 93617546</td></tr>\n",
       "\t<tr><td>549      </td><td>1        </td><td> 15546825</td></tr>\n",
       "\t<tr><td>568      </td><td>1        </td><td>203713133</td></tr>\n",
       "</tbody>\n",
       "</table>\n"
      ],
      "text/latex": [
       "\\begin{tabular}{lll}\n",
       " rs & chr & pos\\\\\n",
       "\\hline\n",
       "\t 171       & 1         & 175261679\\\\\n",
       "\t 242       & 1         &  20869461\\\\\n",
       "\t 538       & 1         &   6160958\\\\\n",
       "\t 546       & 1         &  93617546\\\\\n",
       "\t 549       & 1         &  15546825\\\\\n",
       "\t 568       & 1         & 203713133\\\\\n",
       "\\end{tabular}\n"
      ],
      "text/markdown": [
       "\n",
       "rs | chr | pos | \n",
       "|---|---|---|---|---|---|\n",
       "| 171       | 1         | 175261679 | \n",
       "| 242       | 1         |  20869461 | \n",
       "| 538       | 1         |   6160958 | \n",
       "| 546       | 1         |  93617546 | \n",
       "| 549       | 1         |  15546825 | \n",
       "| 568       | 1         | 203713133 | \n",
       "\n",
       "\n"
      ],
      "text/plain": [
       "     rs  chr pos      \n",
       "[1,] 171 1   175261679\n",
       "[2,] 242 1    20869461\n",
       "[3,] 538 1     6160958\n",
       "[4,] 546 1    93617546\n",
       "[5,] 549 1    15546825\n",
       "[6,] 568 1   203713133"
      ]
     },
     "metadata": {},
     "output_type": "display_data"
    }
   ],
   "source": [
    "head(snps_bm)"
   ]
  },
  {
   "cell_type": "code",
   "execution_count": 37,
   "metadata": {},
   "outputs": [
    {
     "data": {
      "text/plain": [
       "   user  system elapsed \n",
       "  1.469   0.001   1.471 "
      ]
     },
     "metadata": {},
     "output_type": "display_data"
    },
    {
     "data": {
      "text/html": [
       "<dl class=dl-horizontal>\n",
       "\t<dt>rs</dt>\n",
       "\t\t<dd>189425743</dd>\n",
       "\t<dt>chr</dt>\n",
       "\t\t<dd>1</dd>\n",
       "\t<dt>pos</dt>\n",
       "\t\t<dd>225512846</dd>\n",
       "</dl>\n"
      ],
      "text/latex": [
       "\\begin{description*}\n",
       "\\item[rs] 189425743\n",
       "\\item[chr] 1\n",
       "\\item[pos] 225512846\n",
       "\\end{description*}\n"
      ],
      "text/markdown": [
       "rs\n",
       ":   189425743chr\n",
       ":   1pos\n",
       ":   225512846\n",
       "\n"
      ],
      "text/plain": [
       "       rs       chr       pos \n",
       "189425743         1 225512846 "
      ]
     },
     "metadata": {},
     "output_type": "display_data"
    }
   ],
   "source": [
    "## Use the mwhich() function to query the bigmatrix object\n",
    "system.time({row = snps_bm[mwhich(snps_bm, c('chr','pos'), c(1, 225512846), c('eq', 'eq')), ]})\n",
    "row"
   ]
  },
  {
   "cell_type": "markdown",
   "metadata": {
    "collapsed": true
   },
   "source": [
    "The performance for searching is pretty poor, but keep in mind that `bigmemory` was designed with numeric matrices in mind, not tables of heterogeneous data. "
   ]
  },
  {
   "cell_type": "code",
   "execution_count": 38,
   "metadata": {},
   "outputs": [
    {
     "data": {
      "text/plain": [
       "   user  system elapsed \n",
       "      0       0       0 "
      ]
     },
     "metadata": {},
     "output_type": "display_data"
    }
   ],
   "source": [
    "## Data access is pretty fast for specific data elements\n",
    "## i.e. selecting a specific index\n",
    "system.time({z = snps_bm[1200:1220,]})"
   ]
  },
  {
   "cell_type": "code",
   "execution_count": 39,
   "metadata": {},
   "outputs": [
    {
     "data": {
      "text/html": [
       "<table>\n",
       "<thead><tr><th scope=col>rs</th><th scope=col>chr</th><th scope=col>pos</th></tr></thead>\n",
       "<tbody>\n",
       "\t<tr><td>12361    </td><td>1        </td><td>224564377</td></tr>\n",
       "\t<tr><td>12371    </td><td>1        </td><td>180163390</td></tr>\n",
       "\t<tr><td>12375    </td><td>1        </td><td> 10596341</td></tr>\n",
       "\t<tr><td>12384    </td><td>1        </td><td> 32256166</td></tr>\n",
       "\t<tr><td>12386    </td><td>1        </td><td> 36068863</td></tr>\n",
       "\t<tr><td>12395    </td><td>1        </td><td> 38268836</td></tr>\n",
       "\t<tr><td>12419    </td><td>1        </td><td> 44686322</td></tr>\n",
       "\t<tr><td>12439    </td><td>1        </td><td> 25169634</td></tr>\n",
       "\t<tr><td>12442    </td><td>1        </td><td> 43829177</td></tr>\n",
       "\t<tr><td>12455    </td><td>1        </td><td> 55533917</td></tr>\n",
       "\t<tr><td>12461    </td><td>1        </td><td>167022381</td></tr>\n",
       "\t<tr><td>12466    </td><td>1        </td><td>201197808</td></tr>\n",
       "\t<tr><td>12475    </td><td>1        </td><td>149763086</td></tr>\n",
       "\t<tr><td>12475    </td><td>1        </td><td>       NA</td></tr>\n",
       "\t<tr><td>12492    </td><td>1        </td><td> 40649346</td></tr>\n",
       "\t<tr><td>12501    </td><td>1        </td><td>173835000</td></tr>\n",
       "\t<tr><td>12504    </td><td>1        </td><td> 54497663</td></tr>\n",
       "\t<tr><td>12518    </td><td>1        </td><td>219783203</td></tr>\n",
       "\t<tr><td>12525    </td><td>1        </td><td>  1677564</td></tr>\n",
       "\t<tr><td>12531    </td><td>1        </td><td>193053762</td></tr>\n",
       "\t<tr><td>12542    </td><td>1        </td><td>228682330</td></tr>\n",
       "</tbody>\n",
       "</table>\n"
      ],
      "text/latex": [
       "\\begin{tabular}{lll}\n",
       " rs & chr & pos\\\\\n",
       "\\hline\n",
       "\t 12361     & 1         & 224564377\\\\\n",
       "\t 12371     & 1         & 180163390\\\\\n",
       "\t 12375     & 1         &  10596341\\\\\n",
       "\t 12384     & 1         &  32256166\\\\\n",
       "\t 12386     & 1         &  36068863\\\\\n",
       "\t 12395     & 1         &  38268836\\\\\n",
       "\t 12419     & 1         &  44686322\\\\\n",
       "\t 12439     & 1         &  25169634\\\\\n",
       "\t 12442     & 1         &  43829177\\\\\n",
       "\t 12455     & 1         &  55533917\\\\\n",
       "\t 12461     & 1         & 167022381\\\\\n",
       "\t 12466     & 1         & 201197808\\\\\n",
       "\t 12475     & 1         & 149763086\\\\\n",
       "\t 12475     & 1         &        NA\\\\\n",
       "\t 12492     & 1         &  40649346\\\\\n",
       "\t 12501     & 1         & 173835000\\\\\n",
       "\t 12504     & 1         &  54497663\\\\\n",
       "\t 12518     & 1         & 219783203\\\\\n",
       "\t 12525     & 1         &   1677564\\\\\n",
       "\t 12531     & 1         & 193053762\\\\\n",
       "\t 12542     & 1         & 228682330\\\\\n",
       "\\end{tabular}\n"
      ],
      "text/markdown": [
       "\n",
       "rs | chr | pos | \n",
       "|---|---|---|---|---|---|---|---|---|---|---|---|---|---|---|---|---|---|---|---|---|\n",
       "| 12361     | 1         | 224564377 | \n",
       "| 12371     | 1         | 180163390 | \n",
       "| 12375     | 1         |  10596341 | \n",
       "| 12384     | 1         |  32256166 | \n",
       "| 12386     | 1         |  36068863 | \n",
       "| 12395     | 1         |  38268836 | \n",
       "| 12419     | 1         |  44686322 | \n",
       "| 12439     | 1         |  25169634 | \n",
       "| 12442     | 1         |  43829177 | \n",
       "| 12455     | 1         |  55533917 | \n",
       "| 12461     | 1         | 167022381 | \n",
       "| 12466     | 1         | 201197808 | \n",
       "| 12475     | 1         | 149763086 | \n",
       "| 12475     | 1         |        NA | \n",
       "| 12492     | 1         |  40649346 | \n",
       "| 12501     | 1         | 173835000 | \n",
       "| 12504     | 1         |  54497663 | \n",
       "| 12518     | 1         | 219783203 | \n",
       "| 12525     | 1         |   1677564 | \n",
       "| 12531     | 1         | 193053762 | \n",
       "| 12542     | 1         | 228682330 | \n",
       "\n",
       "\n"
      ],
      "text/plain": [
       "      rs    chr pos      \n",
       " [1,] 12361 1   224564377\n",
       " [2,] 12371 1   180163390\n",
       " [3,] 12375 1    10596341\n",
       " [4,] 12384 1    32256166\n",
       " [5,] 12386 1    36068863\n",
       " [6,] 12395 1    38268836\n",
       " [7,] 12419 1    44686322\n",
       " [8,] 12439 1    25169634\n",
       " [9,] 12442 1    43829177\n",
       "[10,] 12455 1    55533917\n",
       "[11,] 12461 1   167022381\n",
       "[12,] 12466 1   201197808\n",
       "[13,] 12475 1   149763086\n",
       "[14,] 12475 1          NA\n",
       "[15,] 12492 1    40649346\n",
       "[16,] 12501 1   173835000\n",
       "[17,] 12504 1    54497663\n",
       "[18,] 12518 1   219783203\n",
       "[19,] 12525 1     1677564\n",
       "[20,] 12531 1   193053762\n",
       "[21,] 12542 1   228682330"
      ]
     },
     "metadata": {},
     "output_type": "display_data"
    }
   ],
   "source": [
    "z"
   ]
  },
  {
   "cell_type": "markdown",
   "metadata": {},
   "source": [
    "### `bigalgebra` \n",
    "\n",
    "The `bigalgebra` package allows efficient linear algebra operations on `bigmemory` matrices."
   ]
  },
  {
   "cell_type": "code",
   "execution_count": 40,
   "metadata": {},
   "outputs": [
    {
     "data": {
      "text/html": [
       "TRUE"
      ],
      "text/latex": [
       "TRUE"
      ],
      "text/markdown": [
       "TRUE"
      ],
      "text/plain": [
       "[1] TRUE"
      ]
     },
     "metadata": {},
     "output_type": "display_data"
    },
    {
     "name": "stderr",
     "output_type": "stream",
     "text": [
      "Warning message in filebacked.big.matrix(nrow = nrow, ncol = ncol, type = type, :\n",
      "“No descriptor file given, it will be named bigmem.bin.desc”"
     ]
    }
   ],
   "source": [
    "if (file.exists(\"./xdata/bigmem.bin\")) {\n",
    "    file.remove(\"./xdata/bigmem.bin\")\n",
    "    file.remove(\"./xdata/bigmem.bin.desc\")\n",
    "}\n",
    "## Let's create another on-disk bigmatrix\n",
    "bm = as.big.matrix(matrix(runif(1000000), 10000, 100), type=\"double\", backingfile=\"bigmem.bin\", backingpath=\"./xdata\")"
   ]
  },
  {
   "cell_type": "code",
   "execution_count": 41,
   "metadata": {},
   "outputs": [
    {
     "name": "stderr",
     "output_type": "stream",
     "text": [
      "Warning message in as.big.matrix(bm[1, ]):\n",
      "“Coercing vector to a single-column matrix.”"
     ]
    }
   ],
   "source": [
    "## Create another bigmatrix object with just the first row\n",
    "v = as.big.matrix(bm[1,])"
   ]
  },
  {
   "cell_type": "code",
   "execution_count": 42,
   "metadata": {},
   "outputs": [
    {
     "data": {
      "text/html": [
       "<ol class=list-inline>\n",
       "\t<li>10000</li>\n",
       "\t<li>100</li>\n",
       "</ol>\n"
      ],
      "text/latex": [
       "\\begin{enumerate*}\n",
       "\\item 10000\n",
       "\\item 100\n",
       "\\end{enumerate*}\n"
      ],
      "text/markdown": [
       "1. 10000\n",
       "2. 100\n",
       "\n",
       "\n"
      ],
      "text/plain": [
       "[1] 10000   100"
      ]
     },
     "metadata": {},
     "output_type": "display_data"
    }
   ],
   "source": [
    "## Dimensions of the matrix\n",
    "dim(bm)"
   ]
  },
  {
   "cell_type": "code",
   "execution_count": 43,
   "metadata": {},
   "outputs": [
    {
     "data": {
      "text/html": [
       "<ol class=list-inline>\n",
       "\t<li>100</li>\n",
       "\t<li>1</li>\n",
       "</ol>\n"
      ],
      "text/latex": [
       "\\begin{enumerate*}\n",
       "\\item 100\n",
       "\\item 1\n",
       "\\end{enumerate*}\n"
      ],
      "text/markdown": [
       "1. 100\n",
       "2. 1\n",
       "\n",
       "\n"
      ],
      "text/plain": [
       "[1] 100   1"
      ]
     },
     "metadata": {},
     "output_type": "display_data"
    }
   ],
   "source": [
    "## Dimensions of the vector\n",
    "dim(v)"
   ]
  },
  {
   "cell_type": "code",
   "execution_count": 44,
   "metadata": {},
   "outputs": [
    {
     "data": {
      "text/plain": [
       "   user  system elapsed \n",
       "  0.014   0.004   0.019 "
      ]
     },
     "metadata": {},
     "output_type": "display_data"
    }
   ],
   "source": [
    "system.time({x = bm %*% v})"
   ]
  },
  {
   "cell_type": "code",
   "execution_count": 45,
   "metadata": {},
   "outputs": [
    {
     "data": {
      "text/html": [
       "<ol class=list-inline>\n",
       "\t<li>10000</li>\n",
       "\t<li>1</li>\n",
       "</ol>\n"
      ],
      "text/latex": [
       "\\begin{enumerate*}\n",
       "\\item 10000\n",
       "\\item 1\n",
       "\\end{enumerate*}\n"
      ],
      "text/markdown": [
       "1. 10000\n",
       "2. 1\n",
       "\n",
       "\n"
      ],
      "text/plain": [
       "[1] 10000     1"
      ]
     },
     "metadata": {},
     "output_type": "display_data"
    }
   ],
   "source": [
    "dim(x)"
   ]
  },
  {
   "cell_type": "markdown",
   "metadata": {},
   "source": [
    "## ff\n",
    "\n",
    "Similar to `bigmemory`, the `ff` packages allows for on-disk storage of large datasets with efficient data access and the ability to share the same data structure across multiple R processes."
   ]
  },
  {
   "cell_type": "code",
   "execution_count": 46,
   "metadata": {},
   "outputs": [
    {
     "data": {
      "text/html": [
       "'/var/folders/3r/wws_4jz54ms2t6m0jrz8k_6mg3ll58/T//RtmpsotR0Z'"
      ],
      "text/latex": [
       "'/var/folders/3r/wws\\_4jz54ms2t6m0jrz8k\\_6mg3ll58/T//RtmpsotR0Z'"
      ],
      "text/markdown": [
       "'/var/folders/3r/wws_4jz54ms2t6m0jrz8k_6mg3ll58/T//RtmpsotR0Z'"
      ],
      "text/plain": [
       "[1] \"/var/folders/3r/wws_4jz54ms2t6m0jrz8k_6mg3ll58/T//RtmpsotR0Z\""
      ]
     },
     "metadata": {},
     "output_type": "display_data"
    }
   ],
   "source": [
    "getOption(\"fftempdir\")"
   ]
  },
  {
   "cell_type": "code",
   "execution_count": 47,
   "metadata": {},
   "outputs": [],
   "source": [
    "if (!dir.exists(\"./xdata/ff\")) {\n",
    "    dir.create(\"./xdata/ff\")\n",
    "} else {\n",
    "    system(\"rm ./xdata/ff/*\")\n",
    "}"
   ]
  },
  {
   "cell_type": "code",
   "execution_count": 48,
   "metadata": {},
   "outputs": [
    {
     "data": {
      "text/plain": [
       "1.39 MB"
      ]
     },
     "metadata": {},
     "output_type": "display_data"
    }
   ],
   "source": [
    "## Let's create a ffdf object\n",
    "## Again, you can load data from a compressed file\n",
    "## If you don't set the asffdf_args, the files will be created\n",
    "## in the fftempdir (see above)\n",
    "mem_change({snps_ff = read.delim.ffdf(file='./xdata/chr1_reducedCols.txt.gz', header=F, skip=7, sep='\\t', \n",
    "                                      asffdf_args=list(col_args=list(pattern = \"./xdata/ff/snps_ff\")))})"
   ]
  },
  {
   "cell_type": "code",
   "execution_count": 49,
   "metadata": {},
   "outputs": [],
   "source": [
    "## Set column names\n",
    "colnames(snps_ff) = c('rs','chr','pos','loci')"
   ]
  },
  {
   "cell_type": "code",
   "execution_count": 50,
   "metadata": {},
   "outputs": [
    {
     "data": {
      "text/plain": [
       "ffdf (all open) dim=c(12237943,4), dimorder=c(1,2) row.names=NULL\n",
       "ffdf virtual mapping\n",
       "     PhysicalName VirtualVmode PhysicalVmode  AsIs VirtualIsMatrix\n",
       "rs             V1      integer       integer FALSE           FALSE\n",
       "chr            V2      integer       integer FALSE           FALSE\n",
       "pos            V3      integer       integer FALSE           FALSE\n",
       "loci           V4      integer       integer FALSE           FALSE\n",
       "     PhysicalIsMatrix PhysicalElementNo PhysicalFirstCol PhysicalLastCol\n",
       "rs              FALSE                 1                1               1\n",
       "chr             FALSE                 2                1               1\n",
       "pos             FALSE                 3                1               1\n",
       "loci            FALSE                 4                1               1\n",
       "     PhysicalIsOpen\n",
       "rs             TRUE\n",
       "chr            TRUE\n",
       "pos            TRUE\n",
       "loci           TRUE\n",
       "ffdf data\n",
       "                         rs                chr                pos\n",
       "1              171          1                  175261679         \n",
       "2              242          1                   20869461         \n",
       "3              538          1                    6160958         \n",
       "4              546          1                   93617546         \n",
       "5              549          1                   15546825         \n",
       "6              568          1                  203713133         \n",
       "7              665          1                   24181041         \n",
       "8              672          1                   53679329         \n",
       ":                         :                  :                  :\n",
       "12237936 880003668          1                  248767919         \n",
       "12237937 880003671          1                  NA                \n",
       "12237938 880003671          1                  NA                \n",
       "12237939 880003673          1                  144605596         \n",
       "12237940 880003681          1                  183564654         \n",
       "12237941 880003686          1                  121094726         \n",
       "12237942 880003694          1                  228039443         \n",
       "12237943 880003695          1                   75749627         \n",
       "                       loci\n",
       "1                          \n",
       "2                          \n",
       "3        KCNAB2            \n",
       "4        TMED5             \n",
       "5        TMEM51            \n",
       "6        ATP2B4            \n",
       "7        FUCA1             \n",
       "8        C1orf123,CPT2     \n",
       ":                         :\n",
       "12237936                   \n",
       "12237937                   \n",
       "12237938 HYDIN2            \n",
       "12237939 LOC101929455,NBPF9\n",
       "12237940                   \n",
       "12237941 SRGAP2C           \n",
       "12237942                   \n",
       "12237943 SLC44A5           "
      ]
     },
     "metadata": {},
     "output_type": "display_data"
    }
   ],
   "source": [
    "head(snps_ff)"
   ]
  },
  {
   "cell_type": "code",
   "execution_count": 51,
   "metadata": {},
   "outputs": [
    {
     "data": {
      "text/plain": [
       "   user  system elapsed \n",
       "  2.308   0.312   2.929 "
      ]
     },
     "metadata": {},
     "output_type": "display_data"
    },
    {
     "data": {
      "text/plain": [
       "ffdf (all open) dim=c(1,4), dimorder=c(1,2) row.names=NULL\n",
       "ffdf virtual mapping\n",
       "     PhysicalName VirtualVmode PhysicalVmode  AsIs VirtualIsMatrix\n",
       "rs             V1      integer       integer FALSE           FALSE\n",
       "chr            V2      integer       integer FALSE           FALSE\n",
       "pos            V3      integer       integer FALSE           FALSE\n",
       "loci           V4      integer       integer FALSE           FALSE\n",
       "     PhysicalIsMatrix PhysicalElementNo PhysicalFirstCol PhysicalLastCol\n",
       "rs              FALSE                 1                1               1\n",
       "chr             FALSE                 2                1               1\n",
       "pos             FALSE                 3                1               1\n",
       "loci            FALSE                 4                1               1\n",
       "     PhysicalIsOpen\n",
       "rs             TRUE\n",
       "chr            TRUE\n",
       "pos            TRUE\n",
       "loci           TRUE\n",
       "ffdf data\n",
       "         rs       chr       pos      loci\n",
       "1 189425743 1         225512846 DNAH14   "
      ]
     },
     "metadata": {},
     "output_type": "display_data"
    }
   ],
   "source": [
    "## Use the ffwhich() function to query the data\n",
    "system.time({row = snps_ff[ffwhich(snps_ff, chr==1 & pos==225512846 & loci=='DNAH14'), ]})\n",
    "row"
   ]
  },
  {
   "cell_type": "code",
   "execution_count": 52,
   "metadata": {},
   "outputs": [
    {
     "data": {
      "text/html": [
       "<ol class=list-inline>\n",
       "\t<li><span style=white-space:pre-wrap>'  adding: Users/mooneymi/Documents/github/large_scale_data/xdata/ff/snps_ff16e87d6c1333.ff (deflated 64%)'</span></li>\n",
       "\t<li><span style=white-space:pre-wrap>'  adding: Users/mooneymi/Documents/github/large_scale_data/xdata/ff/snps_ff16e84260b999.ff (deflated 100%)'</span></li>\n",
       "\t<li><span style=white-space:pre-wrap>'  adding: Users/mooneymi/Documents/github/large_scale_data/xdata/ff/snps_ff16e85c390dda.ff (deflated 6%)'</span></li>\n",
       "\t<li><span style=white-space:pre-wrap>'  adding: Users/mooneymi/Documents/github/large_scale_data/xdata/ff/snps_ff16e825bc9283.ff (deflated 68%)'</span></li>\n",
       "</ol>\n"
      ],
      "text/latex": [
       "\\begin{enumerate*}\n",
       "\\item '  adding: Users/mooneymi/Documents/github/large\\_scale\\_data/xdata/ff/snps\\_ff16e87d6c1333.ff (deflated 64\\%)'\n",
       "\\item '  adding: Users/mooneymi/Documents/github/large\\_scale\\_data/xdata/ff/snps\\_ff16e84260b999.ff (deflated 100\\%)'\n",
       "\\item '  adding: Users/mooneymi/Documents/github/large\\_scale\\_data/xdata/ff/snps\\_ff16e85c390dda.ff (deflated 6\\%)'\n",
       "\\item '  adding: Users/mooneymi/Documents/github/large\\_scale\\_data/xdata/ff/snps\\_ff16e825bc9283.ff (deflated 68\\%)'\n",
       "\\end{enumerate*}\n"
      ],
      "text/markdown": [
       "1. <span style=white-space:pre-wrap>'  adding: Users/mooneymi/Documents/github/large_scale_data/xdata/ff/snps_ff16e87d6c1333.ff (deflated 64%)'</span>\n",
       "2. <span style=white-space:pre-wrap>'  adding: Users/mooneymi/Documents/github/large_scale_data/xdata/ff/snps_ff16e84260b999.ff (deflated 100%)'</span>\n",
       "3. <span style=white-space:pre-wrap>'  adding: Users/mooneymi/Documents/github/large_scale_data/xdata/ff/snps_ff16e85c390dda.ff (deflated 6%)'</span>\n",
       "4. <span style=white-space:pre-wrap>'  adding: Users/mooneymi/Documents/github/large_scale_data/xdata/ff/snps_ff16e825bc9283.ff (deflated 68%)'</span>\n",
       "\n",
       "\n"
      ],
      "text/plain": [
       "[1] \"  adding: Users/mooneymi/Documents/github/large_scale_data/xdata/ff/snps_ff16e87d6c1333.ff (deflated 64%)\" \n",
       "[2] \"  adding: Users/mooneymi/Documents/github/large_scale_data/xdata/ff/snps_ff16e84260b999.ff (deflated 100%)\"\n",
       "[3] \"  adding: Users/mooneymi/Documents/github/large_scale_data/xdata/ff/snps_ff16e85c390dda.ff (deflated 6%)\"  \n",
       "[4] \"  adding: Users/mooneymi/Documents/github/large_scale_data/xdata/ff/snps_ff16e825bc9283.ff (deflated 68%)\" "
      ]
     },
     "metadata": {},
     "output_type": "display_data"
    }
   ],
   "source": [
    "## To save the ffdf oject in an archive to load later\n",
    "ffsave(list=c('snps_ff'), file='./xdata/ff/snps_ff_archive')"
   ]
  },
  {
   "cell_type": "code",
   "execution_count": 53,
   "metadata": {},
   "outputs": [
    {
     "data": {
      "text/html": [
       "FALSE"
      ],
      "text/latex": [
       "FALSE"
      ],
      "text/markdown": [
       "FALSE"
      ],
      "text/plain": [
       "[1] FALSE"
      ]
     },
     "metadata": {},
     "output_type": "display_data"
    }
   ],
   "source": [
    "is.open(snps_ff)"
   ]
  },
  {
   "cell_type": "code",
   "execution_count": 54,
   "metadata": {},
   "outputs": [
    {
     "data": {
      "text/html": [
       "FALSE"
      ],
      "text/latex": [
       "FALSE"
      ],
      "text/markdown": [
       "FALSE"
      ],
      "text/plain": [
       "[1] FALSE"
      ]
     },
     "metadata": {},
     "output_type": "display_data"
    },
    {
     "data": {
      "text/html": [
       "TRUE"
      ],
      "text/latex": [
       "TRUE"
      ],
      "text/markdown": [
       "TRUE"
      ],
      "text/plain": [
       "[1] TRUE"
      ]
     },
     "metadata": {},
     "output_type": "display_data"
    }
   ],
   "source": [
    "## To delete the files and remove the ffdf object do the following\n",
    "## Note: delete seems a bit unstable (sometime files remain)\n",
    "close(snps_ff)\n",
    "delete(snps_ff)\n",
    "\n",
    "## You may also want to do the following to make sure files are deleted\n",
    "if (length(list.files(\"./xdata/ff\", \".*\\\\.ff\")) > 0) {\n",
    "    system(\"rm ./xdata/ff/*.ff\")\n",
    "}"
   ]
  },
  {
   "cell_type": "code",
   "execution_count": 55,
   "metadata": {},
   "outputs": [],
   "source": [
    "## Remove the ffdf object \n",
    "rm(snps_ff)"
   ]
  },
  {
   "cell_type": "code",
   "execution_count": 56,
   "metadata": {},
   "outputs": [
    {
     "data": {
      "text/html": [
       "<ol class=list-inline>\n",
       "\t<li>'Users/mooneymi/Documents/github/large_scale_data/xdata/ff/snps_ff16e87d6c1333.ff'</li>\n",
       "\t<li>'Users/mooneymi/Documents/github/large_scale_data/xdata/ff/snps_ff16e84260b999.ff'</li>\n",
       "\t<li>'Users/mooneymi/Documents/github/large_scale_data/xdata/ff/snps_ff16e85c390dda.ff'</li>\n",
       "\t<li>'Users/mooneymi/Documents/github/large_scale_data/xdata/ff/snps_ff16e825bc9283.ff'</li>\n",
       "</ol>\n"
      ],
      "text/latex": [
       "\\begin{enumerate*}\n",
       "\\item 'Users/mooneymi/Documents/github/large\\_scale\\_data/xdata/ff/snps\\_ff16e87d6c1333.ff'\n",
       "\\item 'Users/mooneymi/Documents/github/large\\_scale\\_data/xdata/ff/snps\\_ff16e84260b999.ff'\n",
       "\\item 'Users/mooneymi/Documents/github/large\\_scale\\_data/xdata/ff/snps\\_ff16e85c390dda.ff'\n",
       "\\item 'Users/mooneymi/Documents/github/large\\_scale\\_data/xdata/ff/snps\\_ff16e825bc9283.ff'\n",
       "\\end{enumerate*}\n"
      ],
      "text/markdown": [
       "1. 'Users/mooneymi/Documents/github/large_scale_data/xdata/ff/snps_ff16e87d6c1333.ff'\n",
       "2. 'Users/mooneymi/Documents/github/large_scale_data/xdata/ff/snps_ff16e84260b999.ff'\n",
       "3. 'Users/mooneymi/Documents/github/large_scale_data/xdata/ff/snps_ff16e85c390dda.ff'\n",
       "4. 'Users/mooneymi/Documents/github/large_scale_data/xdata/ff/snps_ff16e825bc9283.ff'\n",
       "\n",
       "\n"
      ],
      "text/plain": [
       "[1] \"Users/mooneymi/Documents/github/large_scale_data/xdata/ff/snps_ff16e87d6c1333.ff\"\n",
       "[2] \"Users/mooneymi/Documents/github/large_scale_data/xdata/ff/snps_ff16e84260b999.ff\"\n",
       "[3] \"Users/mooneymi/Documents/github/large_scale_data/xdata/ff/snps_ff16e85c390dda.ff\"\n",
       "[4] \"Users/mooneymi/Documents/github/large_scale_data/xdata/ff/snps_ff16e825bc9283.ff\""
      ]
     },
     "metadata": {},
     "output_type": "display_data"
    }
   ],
   "source": [
    "## Load the archive again\n",
    "ffload(file='./xdata/ff/snps_ff_archive')"
   ]
  },
  {
   "cell_type": "code",
   "execution_count": 57,
   "metadata": {},
   "outputs": [
    {
     "data": {
      "text/html": [
       "TRUE"
      ],
      "text/latex": [
       "TRUE"
      ],
      "text/markdown": [
       "TRUE"
      ],
      "text/plain": [
       "[1] TRUE"
      ]
     },
     "metadata": {},
     "output_type": "display_data"
    },
    {
     "data": {
      "text/plain": [
       "ffdf (all open) dim=c(12237943,4), dimorder=c(1,2) row.names=NULL\n",
       "ffdf virtual mapping\n",
       "     PhysicalName VirtualVmode PhysicalVmode  AsIs VirtualIsMatrix\n",
       "rs             V1      integer       integer FALSE           FALSE\n",
       "chr            V2      integer       integer FALSE           FALSE\n",
       "pos            V3      integer       integer FALSE           FALSE\n",
       "loci           V4      integer       integer FALSE           FALSE\n",
       "     PhysicalIsMatrix PhysicalElementNo PhysicalFirstCol PhysicalLastCol\n",
       "rs              FALSE                 1                1               1\n",
       "chr             FALSE                 2                1               1\n",
       "pos             FALSE                 3                1               1\n",
       "loci            FALSE                 4                1               1\n",
       "     PhysicalIsOpen\n",
       "rs             TRUE\n",
       "chr            TRUE\n",
       "pos            TRUE\n",
       "loci           TRUE\n",
       "ffdf data\n",
       "                         rs                chr                pos\n",
       "1              171          1                  175261679         \n",
       "2              242          1                   20869461         \n",
       "3              538          1                    6160958         \n",
       "4              546          1                   93617546         \n",
       "5              549          1                   15546825         \n",
       "6              568          1                  203713133         \n",
       "7              665          1                   24181041         \n",
       "8              672          1                   53679329         \n",
       ":                         :                  :                  :\n",
       "12237936 880003668          1                  248767919         \n",
       "12237937 880003671          1                  NA                \n",
       "12237938 880003671          1                  NA                \n",
       "12237939 880003673          1                  144605596         \n",
       "12237940 880003681          1                  183564654         \n",
       "12237941 880003686          1                  121094726         \n",
       "12237942 880003694          1                  228039443         \n",
       "12237943 880003695          1                   75749627         \n",
       "                       loci\n",
       "1                          \n",
       "2                          \n",
       "3        KCNAB2            \n",
       "4        TMED5             \n",
       "5        TMEM51            \n",
       "6        ATP2B4            \n",
       "7        FUCA1             \n",
       "8        C1orf123,CPT2     \n",
       ":                         :\n",
       "12237936                   \n",
       "12237937                   \n",
       "12237938 HYDIN2            \n",
       "12237939 LOC101929455,NBPF9\n",
       "12237940                   \n",
       "12237941 SRGAP2C           \n",
       "12237942                   \n",
       "12237943 SLC44A5           "
      ]
     },
     "metadata": {},
     "output_type": "display_data"
    }
   ],
   "source": [
    "open(snps_ff)\n",
    "head(snps_ff)"
   ]
  },
  {
   "cell_type": "code",
   "execution_count": 58,
   "metadata": {},
   "outputs": [
    {
     "data": {
      "text/html": [
       "TRUE"
      ],
      "text/latex": [
       "TRUE"
      ],
      "text/markdown": [
       "TRUE"
      ],
      "text/plain": [
       "[1] TRUE"
      ]
     },
     "metadata": {},
     "output_type": "display_data"
    },
    {
     "data": {
      "text/html": [
       "TRUE"
      ],
      "text/latex": [
       "TRUE"
      ],
      "text/markdown": [
       "TRUE"
      ],
      "text/plain": [
       "[1] TRUE"
      ]
     },
     "metadata": {},
     "output_type": "display_data"
    }
   ],
   "source": [
    "## To delete the files and remove the ffdf object do the following\n",
    "## Note: delete seems a bit unstable (sometime files remain)\n",
    "close(snps_ff)\n",
    "delete(snps_ff)\n",
    "\n",
    "## You may also want to do the following to make sure files are deleted\n",
    "if (length(list.files(\"./xdata/ff\", \".*\\\\.ff\")) > 0) {\n",
    "    system(\"rm ./xdata/ff/*.ff\")\n",
    "}"
   ]
  },
  {
   "cell_type": "code",
   "execution_count": 59,
   "metadata": {},
   "outputs": [
    {
     "data": {
      "text/html": [
       "<dl>\n",
       "\t<dt>$RData</dt>\n",
       "\t\t<dd><strong>./xdata/ff/snps_ff_archive.RData:</strong> TRUE</dd>\n",
       "\t<dt>$ffData</dt>\n",
       "\t\t<dd><strong>./xdata/ff/snps_ff_archive.ffData:</strong> TRUE</dd>\n",
       "</dl>\n"
      ],
      "text/latex": [
       "\\begin{description}\n",
       "\\item[\\$RData] \\textbf{./xdata/ff/snps\\textbackslash{}\\_ff\\textbackslash{}\\_archive.RData:} TRUE\n",
       "\\item[\\$ffData] \\textbf{./xdata/ff/snps\\textbackslash{}\\_ff\\textbackslash{}\\_archive.ffData:} TRUE\n",
       "\\end{description}\n"
      ],
      "text/markdown": [
       "$RData\n",
       ":   **./xdata/ff/snps_ff_archive.RData:** TRUE\n",
       "$ffData\n",
       ":   **./xdata/ff/snps_ff_archive.ffData:** TRUE\n",
       "\n",
       "\n"
      ],
      "text/plain": [
       "$RData\n",
       "./xdata/ff/snps_ff_archive.RData \n",
       "                            TRUE \n",
       "\n",
       "$ffData\n",
       "./xdata/ff/snps_ff_archive.ffData \n",
       "                             TRUE \n"
      ]
     },
     "metadata": {},
     "output_type": "display_data"
    }
   ],
   "source": [
    "## Remove the archive\n",
    "ffdrop(file='./xdata/ff/snps_ff_archive')"
   ]
  },
  {
   "cell_type": "markdown",
   "metadata": {},
   "source": [
    "## HDF5\n",
    "\n",
    "The `rhdf5` package provides an interface between R and the HDF5 libraries, much like PyTables in Python. However, `rhdf5` has fairly limited functionality, so it is not as useful for querying heterogenous data sets. But it can be useful for storing large datasets and accessing/processing chunks of that data.\n",
    "\n",
    "Unfortunately, `rhdf5` does not currently support subsetting compound type HDF5 datasets (multiple data types), so the only option is to read the entire dataset into R. The `h5read()` function will load data from the file into an R array. (We'll show how to subset homogeneous data structures below.)"
   ]
  },
  {
   "cell_type": "code",
   "execution_count": 60,
   "metadata": {},
   "outputs": [
    {
     "data": {
      "text/html": [
       "<table>\n",
       "<thead><tr><th></th><th scope=col>group</th><th scope=col>name</th><th scope=col>otype</th><th scope=col>dclass</th><th scope=col>dim</th></tr></thead>\n",
       "<tbody>\n",
       "\t<tr><th scope=row>0</th><td>/          </td><td>snps       </td><td>H5I_GROUP  </td><td>           </td><td>           </td></tr>\n",
       "\t<tr><th scope=row>1</th><td>/snps      </td><td>table      </td><td>H5I_DATASET</td><td>COMPOUND   </td><td>12237943   </td></tr>\n",
       "</tbody>\n",
       "</table>\n"
      ],
      "text/latex": [
       "\\begin{tabular}{r|lllll}\n",
       "  & group & name & otype & dclass & dim\\\\\n",
       "\\hline\n",
       "\t0 & /             & snps          & H5I\\_GROUP   &               &              \\\\\n",
       "\t1 & /snps         & table         & H5I\\_DATASET & COMPOUND      & 12237943     \\\\\n",
       "\\end{tabular}\n"
      ],
      "text/markdown": [
       "\n",
       "| <!--/--> | group | name | otype | dclass | dim | \n",
       "|---|---|\n",
       "| 0 | /           | snps        | H5I_GROUP   |             |             | \n",
       "| 1 | /snps       | table       | H5I_DATASET | COMPOUND    | 12237943    | \n",
       "\n",
       "\n"
      ],
      "text/plain": [
       "  group name  otype       dclass   dim     \n",
       "0 /     snps  H5I_GROUP                    \n",
       "1 /snps table H5I_DATASET COMPOUND 12237943"
      ]
     },
     "metadata": {},
     "output_type": "display_data"
    }
   ],
   "source": [
    "## Let's use the rhdf5 package to look at our previously saved HDF5 file\n",
    " h5ls('./xdata/snps_pandas_hdf_zlib.h5')"
   ]
  },
  {
   "cell_type": "code",
   "execution_count": 61,
   "metadata": {},
   "outputs": [],
   "source": [
    "## Load data from the HDF5 file into an R array\n",
    "## Note: Pandas uses 64-bit integers, which are not available in base R\n",
    "snps_hdf5 = h5read('./xdata/snps_pandas_hdf_zlib.h5', 'snps/table', bit64conversion='bit64')"
   ]
  },
  {
   "cell_type": "code",
   "execution_count": 62,
   "metadata": {},
   "outputs": [
    {
     "data": {
      "text/html": [
       "<ol class=list-inline>\n",
       "\t<li>12237943</li>\n",
       "\t<li>5</li>\n",
       "</ol>\n"
      ],
      "text/latex": [
       "\\begin{enumerate*}\n",
       "\\item 12237943\n",
       "\\item 5\n",
       "\\end{enumerate*}\n"
      ],
      "text/markdown": [
       "1. 12237943\n",
       "2. 5\n",
       "\n",
       "\n"
      ],
      "text/plain": [
       "[1] 12237943        5"
      ]
     },
     "metadata": {},
     "output_type": "display_data"
    }
   ],
   "source": [
    "dim(snps_hdf5)"
   ]
  },
  {
   "cell_type": "code",
   "execution_count": 63,
   "metadata": {},
   "outputs": [
    {
     "data": {
      "text/html": [
       "<table>\n",
       "<thead><tr><th scope=col>index</th><th scope=col>rs</th><th scope=col>chr</th><th scope=col>pos</th><th scope=col>loci</th></tr></thead>\n",
       "<tbody>\n",
       "\t<tr><td>0        </td><td>171      </td><td>1        </td><td>175261679</td><td>         </td></tr>\n",
       "\t<tr><td>1        </td><td>242      </td><td>1        </td><td> 20869461</td><td>         </td></tr>\n",
       "\t<tr><td>2        </td><td>538      </td><td>1        </td><td>  6160958</td><td>KCNAB2   </td></tr>\n",
       "\t<tr><td>3        </td><td>546      </td><td>1        </td><td> 93617546</td><td>TMED5    </td></tr>\n",
       "\t<tr><td>4        </td><td>549      </td><td>1        </td><td> 15546825</td><td>TMEM51   </td></tr>\n",
       "\t<tr><td>5        </td><td>568      </td><td>1        </td><td>203713133</td><td>ATP2B4   </td></tr>\n",
       "</tbody>\n",
       "</table>\n"
      ],
      "text/latex": [
       "\\begin{tabular}{r|lllll}\n",
       " index & rs & chr & pos & loci\\\\\n",
       "\\hline\n",
       "\t 0         & 171       & 1         & 175261679 &          \\\\\n",
       "\t 1         & 242       & 1         &  20869461 &          \\\\\n",
       "\t 2         & 538       & 1         &   6160958 & KCNAB2   \\\\\n",
       "\t 3         & 546       & 1         &  93617546 & TMED5    \\\\\n",
       "\t 4         & 549       & 1         &  15546825 & TMEM51   \\\\\n",
       "\t 5         & 568       & 1         & 203713133 & ATP2B4   \\\\\n",
       "\\end{tabular}\n"
      ],
      "text/markdown": [
       "\n",
       "index | rs | chr | pos | loci | \n",
       "|---|---|---|---|---|---|\n",
       "| 0         | 171       | 1         | 175261679 |           | \n",
       "| 1         | 242       | 1         |  20869461 |           | \n",
       "| 2         | 538       | 1         |   6160958 | KCNAB2    | \n",
       "| 3         | 546       | 1         |  93617546 | TMED5     | \n",
       "| 4         | 549       | 1         |  15546825 | TMEM51    | \n",
       "| 5         | 568       | 1         | 203713133 | ATP2B4    | \n",
       "\n",
       "\n"
      ],
      "text/plain": [
       "  index rs  chr pos       loci  \n",
       "1 0     171 1   175261679       \n",
       "2 1     242 1    20869461       \n",
       "3 2     538 1     6160958 KCNAB2\n",
       "4 3     546 1    93617546 TMED5 \n",
       "5 4     549 1    15546825 TMEM51\n",
       "6 5     568 1   203713133 ATP2B4"
      ]
     },
     "metadata": {},
     "output_type": "display_data"
    }
   ],
   "source": [
    "head(snps_hdf5)"
   ]
  },
  {
   "cell_type": "code",
   "execution_count": 64,
   "metadata": {},
   "outputs": [
    {
     "data": {
      "text/html": [
       "<dl class=dl-horizontal>\n",
       "\t<dt>index</dt>\n",
       "\t\t<dd>'integer64'</dd>\n",
       "\t<dt>rs</dt>\n",
       "\t\t<dd>'integer64'</dd>\n",
       "\t<dt>chr</dt>\n",
       "\t\t<dd>'integer64'</dd>\n",
       "\t<dt>pos</dt>\n",
       "\t\t<dd>'array'</dd>\n",
       "\t<dt>loci</dt>\n",
       "\t\t<dd>'array'</dd>\n",
       "</dl>\n"
      ],
      "text/latex": [
       "\\begin{description*}\n",
       "\\item[index] 'integer64'\n",
       "\\item[rs] 'integer64'\n",
       "\\item[chr] 'integer64'\n",
       "\\item[pos] 'array'\n",
       "\\item[loci] 'array'\n",
       "\\end{description*}\n"
      ],
      "text/markdown": [
       "index\n",
       ":   'integer64'rs\n",
       ":   'integer64'chr\n",
       ":   'integer64'pos\n",
       ":   'array'loci\n",
       ":   'array'\n",
       "\n"
      ],
      "text/plain": [
       "      index          rs         chr         pos        loci \n",
       "\"integer64\" \"integer64\" \"integer64\"     \"array\"     \"array\" "
      ]
     },
     "metadata": {},
     "output_type": "display_data"
    }
   ],
   "source": [
    "sapply(snps_hdf5, class)"
   ]
  },
  {
   "cell_type": "code",
   "execution_count": 65,
   "metadata": {},
   "outputs": [],
   "source": [
    "## Do some data type conversion (necessary for rhdf5 compatibility)\n",
    "snps_hdf5$index = as.numeric(snps_hdf5$index)\n",
    "snps_hdf5$rs = as.numeric(snps_hdf5$rs)\n",
    "snps_hdf5$chr = as.numeric(snps_hdf5$chr)\n",
    "snps_hdf5$pos = as.numeric(snps_hdf5$pos)"
   ]
  },
  {
   "cell_type": "code",
   "execution_count": 66,
   "metadata": {},
   "outputs": [
    {
     "data": {
      "text/html": [
       "<dl class=dl-horizontal>\n",
       "\t<dt>index</dt>\n",
       "\t\t<dd>'numeric'</dd>\n",
       "\t<dt>rs</dt>\n",
       "\t\t<dd>'numeric'</dd>\n",
       "\t<dt>chr</dt>\n",
       "\t\t<dd>'numeric'</dd>\n",
       "\t<dt>pos</dt>\n",
       "\t\t<dd>'numeric'</dd>\n",
       "\t<dt>loci</dt>\n",
       "\t\t<dd>'array'</dd>\n",
       "</dl>\n"
      ],
      "text/latex": [
       "\\begin{description*}\n",
       "\\item[index] 'numeric'\n",
       "\\item[rs] 'numeric'\n",
       "\\item[chr] 'numeric'\n",
       "\\item[pos] 'numeric'\n",
       "\\item[loci] 'array'\n",
       "\\end{description*}\n"
      ],
      "text/markdown": [
       "index\n",
       ":   'numeric'rs\n",
       ":   'numeric'chr\n",
       ":   'numeric'pos\n",
       ":   'numeric'loci\n",
       ":   'array'\n",
       "\n"
      ],
      "text/plain": [
       "    index        rs       chr       pos      loci \n",
       "\"numeric\" \"numeric\" \"numeric\" \"numeric\"   \"array\" "
      ]
     },
     "metadata": {},
     "output_type": "display_data"
    }
   ],
   "source": [
    "sapply(snps_hdf5, class)"
   ]
  },
  {
   "cell_type": "code",
   "execution_count": 67,
   "metadata": {},
   "outputs": [
    {
     "data": {
      "text/html": [
       "<table>\n",
       "<thead><tr><th scope=col>index</th><th scope=col>rs</th><th scope=col>chr</th><th scope=col>pos</th><th scope=col>loci</th></tr></thead>\n",
       "<tbody>\n",
       "\t<tr><td>0        </td><td>171      </td><td>1        </td><td>175261679</td><td>         </td></tr>\n",
       "\t<tr><td>1        </td><td>242      </td><td>1        </td><td> 20869461</td><td>         </td></tr>\n",
       "\t<tr><td>2        </td><td>538      </td><td>1        </td><td>  6160958</td><td>KCNAB2   </td></tr>\n",
       "\t<tr><td>3        </td><td>546      </td><td>1        </td><td> 93617546</td><td>TMED5    </td></tr>\n",
       "\t<tr><td>4        </td><td>549      </td><td>1        </td><td> 15546825</td><td>TMEM51   </td></tr>\n",
       "\t<tr><td>5        </td><td>568      </td><td>1        </td><td>203713133</td><td>ATP2B4   </td></tr>\n",
       "</tbody>\n",
       "</table>\n"
      ],
      "text/latex": [
       "\\begin{tabular}{r|lllll}\n",
       " index & rs & chr & pos & loci\\\\\n",
       "\\hline\n",
       "\t 0         & 171       & 1         & 175261679 &          \\\\\n",
       "\t 1         & 242       & 1         &  20869461 &          \\\\\n",
       "\t 2         & 538       & 1         &   6160958 & KCNAB2   \\\\\n",
       "\t 3         & 546       & 1         &  93617546 & TMED5    \\\\\n",
       "\t 4         & 549       & 1         &  15546825 & TMEM51   \\\\\n",
       "\t 5         & 568       & 1         & 203713133 & ATP2B4   \\\\\n",
       "\\end{tabular}\n"
      ],
      "text/markdown": [
       "\n",
       "index | rs | chr | pos | loci | \n",
       "|---|---|---|---|---|---|\n",
       "| 0         | 171       | 1         | 175261679 |           | \n",
       "| 1         | 242       | 1         |  20869461 |           | \n",
       "| 2         | 538       | 1         |   6160958 | KCNAB2    | \n",
       "| 3         | 546       | 1         |  93617546 | TMED5     | \n",
       "| 4         | 549       | 1         |  15546825 | TMEM51    | \n",
       "| 5         | 568       | 1         | 203713133 | ATP2B4    | \n",
       "\n",
       "\n"
      ],
      "text/plain": [
       "  index rs  chr pos       loci  \n",
       "1 0     171 1   175261679       \n",
       "2 1     242 1    20869461       \n",
       "3 2     538 1     6160958 KCNAB2\n",
       "4 3     546 1    93617546 TMED5 \n",
       "5 4     549 1    15546825 TMEM51\n",
       "6 5     568 1   203713133 ATP2B4"
      ]
     },
     "metadata": {},
     "output_type": "display_data"
    }
   ],
   "source": [
    "head(snps_hdf5)"
   ]
  },
  {
   "cell_type": "code",
   "execution_count": 68,
   "metadata": {},
   "outputs": [],
   "source": [
    "## Close the file\n",
    "H5close()"
   ]
  },
  {
   "cell_type": "markdown",
   "metadata": {},
   "source": [
    "To show different ways to access an HDF5 file that contains a matrix of a single data type, we'll first create a new HDF5 file using `rhdf5`."
   ]
  },
  {
   "cell_type": "code",
   "execution_count": 69,
   "metadata": {},
   "outputs": [],
   "source": [
    "## First convert the dataframe to a numeric matrix (just the rs, chr, and pos columns)\n",
    "m = do.call(cbind, snps_hdf5[,2:4])"
   ]
  },
  {
   "cell_type": "code",
   "execution_count": 70,
   "metadata": {},
   "outputs": [
    {
     "data": {
      "text/html": [
       "'matrix'"
      ],
      "text/latex": [
       "'matrix'"
      ],
      "text/markdown": [
       "'matrix'"
      ],
      "text/plain": [
       "[1] \"matrix\""
      ]
     },
     "metadata": {},
     "output_type": "display_data"
    }
   ],
   "source": [
    "## Get the class\n",
    "class(m)"
   ]
  },
  {
   "cell_type": "code",
   "execution_count": 71,
   "metadata": {},
   "outputs": [
    {
     "data": {
      "text/html": [
       "'double'"
      ],
      "text/latex": [
       "'double'"
      ],
      "text/markdown": [
       "'double'"
      ],
      "text/plain": [
       "[1] \"double\""
      ]
     },
     "metadata": {},
     "output_type": "display_data"
    }
   ],
   "source": [
    "## And storage mode (data type) of the matrix\n",
    "storage.mode(m)"
   ]
  },
  {
   "cell_type": "code",
   "execution_count": 72,
   "metadata": {},
   "outputs": [
    {
     "data": {
      "text/html": [
       "TRUE"
      ],
      "text/latex": [
       "TRUE"
      ],
      "text/markdown": [
       "TRUE"
      ],
      "text/plain": [
       "[1] TRUE"
      ]
     },
     "metadata": {},
     "output_type": "display_data"
    },
    {
     "data": {
      "text/html": [
       "TRUE"
      ],
      "text/latex": [
       "TRUE"
      ],
      "text/markdown": [
       "TRUE"
      ],
      "text/plain": [
       "[1] TRUE"
      ]
     },
     "metadata": {},
     "output_type": "display_data"
    }
   ],
   "source": [
    "## Create a new HDF5 file\n",
    "if (file.exists(\"./xdata/snps_rhdf5.h5\")) {\n",
    "    file.remove(\"./xdata/snps_rhdf5.h5\")\n",
    "}\n",
    "h5createFile(\"./xdata/snps_rhdf5.h5\")"
   ]
  },
  {
   "cell_type": "code",
   "execution_count": 73,
   "metadata": {},
   "outputs": [
    {
     "data": {
      "text/html": [
       "TRUE"
      ],
      "text/latex": [
       "TRUE"
      ],
      "text/markdown": [
       "TRUE"
      ],
      "text/plain": [
       "[1] TRUE"
      ]
     },
     "metadata": {},
     "output_type": "display_data"
    },
    {
     "data": {
      "text/html": [
       "<table>\n",
       "<thead><tr><th></th><th scope=col>group</th><th scope=col>name</th><th scope=col>otype</th><th scope=col>dclass</th><th scope=col>dim</th></tr></thead>\n",
       "<tbody>\n",
       "\t<tr><th scope=row>0</th><td>/        </td><td>snps     </td><td>H5I_GROUP</td><td>         </td><td>         </td></tr>\n",
       "</tbody>\n",
       "</table>\n"
      ],
      "text/latex": [
       "\\begin{tabular}{r|lllll}\n",
       "  & group & name & otype & dclass & dim\\\\\n",
       "\\hline\n",
       "\t0 & /           & snps        & H5I\\_GROUP &             &            \\\\\n",
       "\\end{tabular}\n"
      ],
      "text/markdown": [
       "\n",
       "| <!--/--> | group | name | otype | dclass | dim | \n",
       "|---|\n",
       "| 0 | /         | snps      | H5I_GROUP |           |           | \n",
       "\n",
       "\n"
      ],
      "text/plain": [
       "  group name otype     dclass dim\n",
       "0 /     snps H5I_GROUP           "
      ]
     },
     "metadata": {},
     "output_type": "display_data"
    }
   ],
   "source": [
    "## Let's create the same file structure as before, \n",
    "## but we'll include only the first three numeric columns\n",
    "h5createGroup(\"./xdata/snps_rhdf5.h5\",\"snps\")\n",
    "h5ls(\"./xdata/snps_rhdf5.h5\")"
   ]
  },
  {
   "cell_type": "code",
   "execution_count": 74,
   "metadata": {},
   "outputs": [
    {
     "data": {
      "text/html": [
       "TRUE"
      ],
      "text/latex": [
       "TRUE"
      ],
      "text/markdown": [
       "TRUE"
      ],
      "text/plain": [
       "[1] TRUE"
      ]
     },
     "metadata": {},
     "output_type": "display_data"
    }
   ],
   "source": [
    "## First we create a dataset in the HDF5 file\n",
    "## with the correct dimensions\n",
    "## We also specifying the chunk size and compression level (default=6)\n",
    "h5createDataset(file=\"./xdata/snps_rhdf5.h5\", dataset=\"snps/table\", \n",
    "                dims=dim(snps_hdf5[,2:4]), chunk=c(1000,3), level=6)"
   ]
  },
  {
   "cell_type": "code",
   "execution_count": 75,
   "metadata": {},
   "outputs": [
    {
     "data": {
      "text/html": [
       "<table>\n",
       "<thead><tr><th></th><th scope=col>group</th><th scope=col>name</th><th scope=col>otype</th><th scope=col>dclass</th><th scope=col>dim</th></tr></thead>\n",
       "<tbody>\n",
       "\t<tr><th scope=row>0</th><td>/           </td><td>snps        </td><td>H5I_GROUP   </td><td>            </td><td>            </td></tr>\n",
       "\t<tr><th scope=row>1</th><td>/snps       </td><td>table       </td><td>H5I_DATASET </td><td>FLOAT       </td><td>12237943 x 3</td></tr>\n",
       "</tbody>\n",
       "</table>\n"
      ],
      "text/latex": [
       "\\begin{tabular}{r|lllll}\n",
       "  & group & name & otype & dclass & dim\\\\\n",
       "\\hline\n",
       "\t0 & /             & snps          & H5I\\_GROUP   &               &              \\\\\n",
       "\t1 & /snps         & table         & H5I\\_DATASET & FLOAT         & 12237943 x 3 \\\\\n",
       "\\end{tabular}\n"
      ],
      "text/markdown": [
       "\n",
       "| <!--/--> | group | name | otype | dclass | dim | \n",
       "|---|---|\n",
       "| 0 | /            | snps         | H5I_GROUP    |              |              | \n",
       "| 1 | /snps        | table        | H5I_DATASET  | FLOAT        | 12237943 x 3 | \n",
       "\n",
       "\n"
      ],
      "text/plain": [
       "  group name  otype       dclass dim         \n",
       "0 /     snps  H5I_GROUP                      \n",
       "1 /snps table H5I_DATASET FLOAT  12237943 x 3"
      ]
     },
     "metadata": {},
     "output_type": "display_data"
    }
   ],
   "source": [
    "## We convert the dataframe to a matrix to ensure \n",
    "## it is stored as a numeric matrix\n",
    "h5write(m, \"./xdata/snps_rhdf5.h5\", \"snps/table\")\n",
    "h5ls(\"./xdata/snps_rhdf5.h5\")"
   ]
  },
  {
   "cell_type": "code",
   "execution_count": 76,
   "metadata": {},
   "outputs": [],
   "source": [
    "H5close()"
   ]
  },
  {
   "cell_type": "markdown",
   "metadata": {},
   "source": [
    "Let's read just a subset of the data. Here we'll use the `h5read()` function and specify indices:"
   ]
  },
  {
   "cell_type": "code",
   "execution_count": 77,
   "metadata": {},
   "outputs": [
    {
     "data": {
      "text/html": [
       "<table>\n",
       "<tbody>\n",
       "\t<tr><td>171      </td><td>1        </td><td>175261679</td></tr>\n",
       "\t<tr><td>242      </td><td>1        </td><td> 20869461</td></tr>\n",
       "\t<tr><td>538      </td><td>1        </td><td>  6160958</td></tr>\n",
       "\t<tr><td>546      </td><td>1        </td><td> 93617546</td></tr>\n",
       "\t<tr><td>549      </td><td>1        </td><td> 15546825</td></tr>\n",
       "\t<tr><td>568      </td><td>1        </td><td>203713133</td></tr>\n",
       "\t<tr><td>665      </td><td>1        </td><td> 24181041</td></tr>\n",
       "\t<tr><td>672      </td><td>1        </td><td> 53679329</td></tr>\n",
       "\t<tr><td>677      </td><td>1        </td><td>173876561</td></tr>\n",
       "\t<tr><td>685      </td><td>1        </td><td>161191522</td></tr>\n",
       "</tbody>\n",
       "</table>\n"
      ],
      "text/latex": [
       "\\begin{tabular}{lll}\n",
       "\t 171       & 1         & 175261679\\\\\n",
       "\t 242       & 1         &  20869461\\\\\n",
       "\t 538       & 1         &   6160958\\\\\n",
       "\t 546       & 1         &  93617546\\\\\n",
       "\t 549       & 1         &  15546825\\\\\n",
       "\t 568       & 1         & 203713133\\\\\n",
       "\t 665       & 1         &  24181041\\\\\n",
       "\t 672       & 1         &  53679329\\\\\n",
       "\t 677       & 1         & 173876561\\\\\n",
       "\t 685       & 1         & 161191522\\\\\n",
       "\\end{tabular}\n"
      ],
      "text/markdown": [
       "\n",
       "| 171       | 1         | 175261679 | \n",
       "| 242       | 1         |  20869461 | \n",
       "| 538       | 1         |   6160958 | \n",
       "| 546       | 1         |  93617546 | \n",
       "| 549       | 1         |  15546825 | \n",
       "| 568       | 1         | 203713133 | \n",
       "| 665       | 1         |  24181041 | \n",
       "| 672       | 1         |  53679329 | \n",
       "| 677       | 1         | 173876561 | \n",
       "| 685       | 1         | 161191522 | \n",
       "\n",
       "\n"
      ],
      "text/plain": [
       "      [,1] [,2] [,3]     \n",
       " [1,] 171  1    175261679\n",
       " [2,] 242  1     20869461\n",
       " [3,] 538  1      6160958\n",
       " [4,] 546  1     93617546\n",
       " [5,] 549  1     15546825\n",
       " [6,] 568  1    203713133\n",
       " [7,] 665  1     24181041\n",
       " [8,] 672  1     53679329\n",
       " [9,] 677  1    173876561\n",
       "[10,] 685  1    161191522"
      ]
     },
     "metadata": {},
     "output_type": "display_data"
    }
   ],
   "source": [
    "snps_rhdf5 = h5read('./xdata/snps_rhdf5.h5', 'snps/table', index=list(1:10,1:3))\n",
    "snps_rhdf5"
   ]
  },
  {
   "cell_type": "code",
   "execution_count": 78,
   "metadata": {},
   "outputs": [],
   "source": [
    "H5close()"
   ]
  },
  {
   "cell_type": "markdown",
   "metadata": {},
   "source": [
    "You can also access HDF5 datasets within a file using file and dataset handles. A file handle is returned by `H5Fopen()`, and the `&` operator allows you to access dataset handles. The '$' will give you access to the data itself (similar to accessing named elements in a list).  "
   ]
  },
  {
   "cell_type": "code",
   "execution_count": 79,
   "metadata": {},
   "outputs": [
    {
     "data": {
      "text/plain": [
       "HDF5 FILE\n",
       "        name /\n",
       "    filename \n",
       "\n",
       "  name     otype dclass dim\n",
       "0 snps H5I_GROUP           "
      ]
     },
     "metadata": {},
     "output_type": "display_data"
    }
   ],
   "source": [
    "## Open the file and return a file handle\n",
    "snps_rhdf5_fh = H5Fopen('./xdata/snps_rhdf5.h5')\n",
    "snps_rhdf5_fh"
   ]
  },
  {
   "cell_type": "code",
   "execution_count": 80,
   "metadata": {},
   "outputs": [
    {
     "data": {
      "text/plain": [
       "HDF5 DATASET\n",
       "        name /snps/table\n",
       "    filename \n",
       "        type H5T_IEEE_F64LE\n",
       "        rank 2\n",
       "        size 12237943 x 3\n",
       "     maxsize 12237943 x 3"
      ]
     },
     "metadata": {},
     "output_type": "display_data"
    }
   ],
   "source": [
    "## Get a dataset handle by specifying a group in the file\n",
    "snps_table = snps_rhdf5_fh&'snps/table'\n",
    "snps_table"
   ]
  },
  {
   "cell_type": "code",
   "execution_count": 81,
   "metadata": {},
   "outputs": [
    {
     "data": {
      "text/html": [
       "<table>\n",
       "<tbody>\n",
       "\t<tr><td>171      </td><td>1        </td><td>175261679</td></tr>\n",
       "\t<tr><td>242      </td><td>1        </td><td> 20869461</td></tr>\n",
       "\t<tr><td>538      </td><td>1        </td><td>  6160958</td></tr>\n",
       "\t<tr><td>546      </td><td>1        </td><td> 93617546</td></tr>\n",
       "\t<tr><td>549      </td><td>1        </td><td> 15546825</td></tr>\n",
       "</tbody>\n",
       "</table>\n"
      ],
      "text/latex": [
       "\\begin{tabular}{lll}\n",
       "\t 171       & 1         & 175261679\\\\\n",
       "\t 242       & 1         &  20869461\\\\\n",
       "\t 538       & 1         &   6160958\\\\\n",
       "\t 546       & 1         &  93617546\\\\\n",
       "\t 549       & 1         &  15546825\\\\\n",
       "\\end{tabular}\n"
      ],
      "text/markdown": [
       "\n",
       "| 171       | 1         | 175261679 | \n",
       "| 242       | 1         |  20869461 | \n",
       "| 538       | 1         |   6160958 | \n",
       "| 546       | 1         |  93617546 | \n",
       "| 549       | 1         |  15546825 | \n",
       "\n",
       "\n"
      ],
      "text/plain": [
       "     [,1] [,2] [,3]     \n",
       "[1,] 171  1    175261679\n",
       "[2,] 242  1     20869461\n",
       "[3,] 538  1      6160958\n",
       "[4,] 546  1     93617546\n",
       "[5,] 549  1     15546825"
      ]
     },
     "metadata": {},
     "output_type": "display_data"
    }
   ],
   "source": [
    "## Access the table under the 'snps' group\n",
    "snps_rhdf5_fh$'snps/table'[1:5,]"
   ]
  },
  {
   "cell_type": "code",
   "execution_count": 82,
   "metadata": {},
   "outputs": [],
   "source": [
    "H5close()"
   ]
  },
  {
   "cell_type": "markdown",
   "metadata": {},
   "source": [
    "## In-Class Exercises"
   ]
  },
  {
   "cell_type": "code",
   "execution_count": 83,
   "metadata": {},
   "outputs": [],
   "source": [
    "## Exercise 1.\n",
    "## Use parallel processes to calculate the column sums \n",
    "## of the first ten columns of a file-backed bigmatrix \n",
    "## (you can use 'bm' defined above).\n",
    "## Use describe() and attach.big.matrix() from the bigmemory package.\n",
    "## An easy option for parallel R processes is mclapply() from the\n",
    "## parallel R package\n",
    "\n"
   ]
  },
  {
   "cell_type": "code",
   "execution_count": 84,
   "metadata": {},
   "outputs": [
    {
     "data": {
      "text/plain": [
       "   user  system elapsed \n",
       "  0.051   0.015  30.116 "
      ]
     },
     "metadata": {},
     "output_type": "display_data"
    }
   ],
   "source": [
    "## Here's an example of sequentially calling foo() 10 times\n",
    "system.time({lapply(1:10, function(x){foo(x, 1000000)})})"
   ]
  },
  {
   "cell_type": "code",
   "execution_count": 85,
   "metadata": {},
   "outputs": [
    {
     "data": {
      "text/plain": [
       "   user  system elapsed \n",
       "  0.072   0.098   9.121 "
      ]
     },
     "metadata": {},
     "output_type": "display_data"
    }
   ],
   "source": [
    "## Here's an example of using mclapply() to call foo() in parallel, using 4 cores\n",
    "system.time({mclapply(1:10, function(x){foo(x, 1000000)}, mc.cores=4)})"
   ]
  },
  {
   "cell_type": "markdown",
   "metadata": {},
   "source": [
    "#### Last Updated: 16-Jan-2018"
   ]
  }
 ],
 "metadata": {
  "anaconda-cloud": {},
  "kernelspec": {
   "display_name": "R",
   "language": "R",
   "name": "ir"
  },
  "language_info": {
   "codemirror_mode": "r",
   "file_extension": ".r",
   "mimetype": "text/x-r-source",
   "name": "R",
   "pygments_lexer": "r",
   "version": "3.3.2"
  }
 },
 "nbformat": 4,
 "nbformat_minor": 1
}
