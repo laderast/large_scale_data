{
 "cells": [
  {
   "cell_type": "markdown",
   "metadata": {},
   "source": [
    "# BMI 535/635: Management & Processing of Large-scale Data\n",
    "\n",
    "#### Author: Michael Mooney (mooneymi@ohsu.edu)\n",
    "\n",
    "## Week 3: Data Storage and Querying Solutions in R"
   ]
  },
  {
   "cell_type": "markdown",
   "metadata": {},
   "source": [
    "1. Introduction\n",
    "2. Learning Objectives\n",
    "3. Resource Profiling\n",
    "4. Review of R Data Types\n",
    "5. Data from dbSNP\n",
    "6. Connecting to Relational DBs\n",
    "7. data.table\n",
    "8. BigMemory\n",
    "9. ff\n",
    "10. HDF5\n",
    "\n",
    "Requirements:\n",
    "\n",
    "- R packages:\n",
    "    - pryr\n",
    "    - RMySQL\n",
    "    - data.table\n",
    "    - bigmemory\n",
    "    - ff\n",
    "    - ffbase\n",
    "    - rhdf5\n",
    "- Data files:\n",
    "    - dbSNP annotations (chromosome 1 only): `./data/chr1_reducedCols.txt.gz`\n",
    "    - A MySQL config file containing connection parameters: `~/.my.cnf`"
   ]
  },
  {
   "cell_type": "code",
   "execution_count": 1,
   "metadata": {
    "collapsed": false
   },
   "outputs": [
    {
     "name": "stderr",
     "output_type": "stream",
     "text": [
      "Loading required package: DBI\n",
      "\n",
      "Attaching package: ‘data.table’\n",
      "\n",
      "The following object is masked from ‘package:pryr’:\n",
      "\n",
      "    address\n",
      "\n",
      "Loading required package: bigmemory.sri\n",
      "Loading required package: bit\n",
      "Attaching package bit\n",
      "package:bit (c) 2008-2012 Jens Oehlschlaegel (GPL-2)\n",
      "creators: bit bitwhich\n",
      "coercion: as.logical as.integer as.bit as.bitwhich which\n",
      "operator: ! & | xor != ==\n",
      "querying: print length any all min max range sum summary\n",
      "bit access: length<- [ [<- [[ [[<-\n",
      "for more help type ?bit\n",
      "\n",
      "Attaching package: ‘bit’\n",
      "\n",
      "The following object is masked from ‘package:data.table’:\n",
      "\n",
      "    setattr\n",
      "\n",
      "The following object is masked from ‘package:base’:\n",
      "\n",
      "    xor\n",
      "\n",
      "Attaching package ff\n",
      "- getOption(\"fftempdir\")==\"/var/folders/3r/wws_4jz54ms2t6m0jrz8k_6mg3ll58/T//Rtmp1Ayz8r\"\n",
      "\n",
      "- getOption(\"ffextension\")==\"ff\"\n",
      "\n",
      "- getOption(\"ffdrop\")==TRUE\n",
      "\n",
      "- getOption(\"fffinonexit\")==TRUE\n",
      "\n",
      "- getOption(\"ffpagesize\")==65536\n",
      "\n",
      "- getOption(\"ffcaching\")==\"mmnoflush\"  -- consider \"ffeachflush\" if your system stalls on large writes\n",
      "\n",
      "- getOption(\"ffbatchbytes\")==16777216 -- consider a different value for tuning your system\n",
      "\n",
      "- getOption(\"ffmaxbytes\")==536870912 -- consider a different value for tuning your system\n",
      "\n",
      "\n",
      "Attaching package: ‘ff’\n",
      "\n",
      "The following objects are masked from ‘package:bit’:\n",
      "\n",
      "    clone, clone.default, clone.list\n",
      "\n",
      "The following object is masked from ‘package:bigmemory’:\n",
      "\n",
      "    is.readonly\n",
      "\n",
      "The following objects are masked from ‘package:utils’:\n",
      "\n",
      "    write.csv, write.csv2\n",
      "\n",
      "The following objects are masked from ‘package:base’:\n",
      "\n",
      "    is.factor, is.ordered\n",
      "\n",
      "\n",
      "Attaching package: ‘ffbase’\n",
      "\n",
      "The following objects are masked from ‘package:ff’:\n",
      "\n",
      "    [.ff, [.ffdf, [<-.ff, [<-.ffdf\n",
      "\n",
      "The following objects are masked from ‘package:base’:\n",
      "\n",
      "    %in%, table\n",
      "\n"
     ]
    }
   ],
   "source": [
    "library(pryr)\n",
    "library(RMySQL)\n",
    "library(data.table)\n",
    "library(bigmemory)\n",
    "library(ff)\n",
    "library(ffbase)\n",
    "library(rhdf5)"
   ]
  },
  {
   "cell_type": "markdown",
   "metadata": {},
   "source": [
    "## Introduction"
   ]
  },
  {
   "cell_type": "markdown",
   "metadata": {
    "collapsed": true
   },
   "source": [
    "This is the **R** version of the previous lecture. We'll be addressing the same big-data issues, but this time exploring solutions offered in R. Just as a reminder, here are the problems often faced when working with large data sets:\n",
    "\n",
    "1. Data does not fit into memory\n",
    "    - In particular, this can be a problem when setting up parallel computations, where each process needs the full data\n",
    "    - R can sometimes present unique challenges when it comes to memory usage. For more info see the following:\n",
    "    - ([http://adv-r.had.co.nz/memory.html](http://adv-r.had.co.nz/memory.html))\n",
    "    - `?Memory`\n",
    "2. Accessing (querying) the data is slow\n",
    "3. Data files on-disk are very large (i.e. not easily portable)\n",
    "\n",
    "Potential Solutions:\n",
    "\n",
    "1. Use on-disk storage that is optimized for fast read/write access\n",
    "2. Use data storage that allows for multiple concurrent reads (i.e. can be shared across multiple processes)\n",
    "3. Use data compression\n",
    "\n",
    "### Learning Objectives\n",
    "\n",
    "1. You will learn some basic methods for profiling the amount of resources and time used by computational tasks\n",
    "2. You will learn how store large datasets in various \"high-performance\" R data structures\n",
    "3. You will learn how to query data in each of the data structures\n",
    "4. You will learn how to convert between these various data storage solutions\n"
   ]
  },
  {
   "cell_type": "markdown",
   "metadata": {},
   "source": [
    "## Resource Profiling ** not done\n",
    "\n",
    "`system.time` can be used to \n",
    "\n",
    "More information can be found at Hadley Wickham's 'Advanced R' site: \n",
    "\n",
    "[http://adv-r.had.co.nz/Profiling.html](http://adv-r.had.co.nz/Profiling.html)\n",
    "\n",
    "[http://adv-r.had.co.nz/memory.html#memory-profiling](http://adv-r.had.co.nz/memory.html#memory-profiling)"
   ]
  },
  {
   "cell_type": "code",
   "execution_count": null,
   "metadata": {
    "collapsed": false
   },
   "outputs": [],
   "source": [
    "foo = function(a, n=100) {\n",
    "    Sys.sleep(2)\n",
    "    b = rep(a, n)\n",
    "    Sys.sleep(1)\n",
    "    return(NULL)\n",
    "}\n",
    "\n",
    "system.time({foo(1,10000000)})"
   ]
  },
  {
   "cell_type": "code",
   "execution_count": null,
   "metadata": {
    "collapsed": false
   },
   "outputs": [],
   "source": [
    "mem_change({foo(1,10000000)})"
   ]
  },
  {
   "cell_type": "code",
   "execution_count": null,
   "metadata": {
    "collapsed": false
   },
   "outputs": [],
   "source": [
    "mem_used()"
   ]
  },
  {
   "cell_type": "markdown",
   "metadata": {},
   "source": [
    "## Review of Basic R Data Types\n",
    "\n",
    "Basic Python data types and when to use them:\n",
    "\n",
    "**Vectors**: Vectors store collections of data elements of a single type. R will perform automatic type conversions, so be careful and pay attention to you data types. Vectors can be named, so you can access elements by name or by index. Note: set operations can be performed on vectors.\n",
    "\n",
    "**Lists**: An R list is similar to a Python dictionary.... If you have a large collection of data and need to repeatedly search for specific items, use an environment instead.\n",
    "\n",
    "**Environments**: An environment can be created and accessed very much like a list, but because of they way it is stored internally, data access is much faster. \n",
    "\n",
    "**DataFrames**: A table data structure (the inspiration for the Pandas DataFrame in Python), which can hold columns of different data types.\n"
   ]
  },
  {
   "cell_type": "code",
   "execution_count": null,
   "metadata": {
    "collapsed": true
   },
   "outputs": [],
   "source": [
    "## Create some example data\n",
    "VECTOR1 = sample(c(1:1000000), 1000000)\n",
    "VECTOR2 = c(1:1000000)\n",
    "LIST1 = as.list(VECTOR2)\n",
    "names(LIST1) = as.character(VECTOR1)\n",
    "DF1 = data.frame(A=VECTOR1, B=VECTOR2)\n",
    "rownames(DF1) = as.character(VECTOR1)"
   ]
  },
  {
   "cell_type": "code",
   "execution_count": null,
   "metadata": {
    "collapsed": false
   },
   "outputs": [],
   "source": [
    "mem_used()"
   ]
  },
  {
   "cell_type": "code",
   "execution_count": null,
   "metadata": {
    "collapsed": false
   },
   "outputs": [],
   "source": [
    "## How long does it take to find an item?\n",
    "## Using a vector\n",
    "t = system.time({idx = match(567890, VECTOR1)})\n",
    "print(idx)\n",
    "print(t)\n",
    "\n",
    "## Using a vector version 2\n",
    "t = system.time({idx = which(VECTOR1 == 567890)})\n",
    "print(idx)\n",
    "print(t)\n",
    "\n",
    "## Using a list\n",
    "t = system.time({idx = LIST1[[as.character(567890)]]})\n",
    "print(idx)\n",
    "print(t)\n",
    "\n",
    "## Using a dataframe\n",
    "t = system.time({idx = match(567890, DF1$A)})\n",
    "print(idx)\n",
    "print(t)\n",
    "\n",
    "## Using a dataframe version 2\n",
    "t = system.time({idx = DF1$B[DF1$A == 567890]})\n",
    "print(idx)\n",
    "print(t)"
   ]
  },
  {
   "cell_type": "code",
   "execution_count": null,
   "metadata": {
    "collapsed": false
   },
   "outputs": [],
   "source": [
    "## How long does it take to determine if an item exists?\n",
    "x = 567890\n",
    "## Using a vector\n",
    "t = system.time({test = x %in% VECTOR1})\n",
    "print(test)\n",
    "print(t)\n",
    "\n",
    "## Using a list\n",
    "t = system.time({test = as.character(x) %in% names(LIST1)})\n",
    "print(test)\n",
    "print(t)\n",
    "\n",
    "## Using a dataframe\n",
    "t = system.time({test = x %in% DF1$A})\n",
    "print(test)\n",
    "print(t)"
   ]
  },
  {
   "cell_type": "code",
   "execution_count": null,
   "metadata": {
    "collapsed": true
   },
   "outputs": [],
   "source": [
    "## Now let's compare a list to an environment\n",
    "ENV1 = as.environment(LIST1)"
   ]
  },
  {
   "cell_type": "code",
   "execution_count": null,
   "metadata": {
    "collapsed": false
   },
   "outputs": [],
   "source": [
    "mem_used()"
   ]
  },
  {
   "cell_type": "code",
   "execution_count": null,
   "metadata": {
    "collapsed": false
   },
   "outputs": [],
   "source": [
    "## How long does it take to find an item?\n",
    "## Using a list\n",
    "t = system.time({idx = LIST1[[as.character(567890)]]})\n",
    "print(idx)\n",
    "print(t)\n",
    "\n",
    "## Using an environment\n",
    "t = system.time({idx = ENV1[[as.character(567890)]]})\n",
    "print(idx)\n",
    "print(t)"
   ]
  },
  {
   "cell_type": "code",
   "execution_count": null,
   "metadata": {
    "collapsed": false
   },
   "outputs": [],
   "source": [
    "## How long does it take to determine if an item exists?\n",
    "x = 567890\n",
    "## Using a list\n",
    "t = system.time({test = as.character(x) %in% names(LIST1)})\n",
    "print(test)\n",
    "print(t)\n",
    "\n",
    "## Using a list\n",
    "t = system.time({test = exists(as.character(x), where=ENV1)})\n",
    "print(test)\n",
    "print(t)"
   ]
  },
  {
   "cell_type": "markdown",
   "metadata": {},
   "source": [
    "## dbSNP Dataset\n",
    "\n",
    "For the following examples, we'll be using data from dbSNP, which contains information about all single nucleotide polymorphisms (SNPs) on human chromosome 1. The data file is a tab-delimited text file containing four columns: the 'rs' number of the SNP, the chromosome, the position, and a comma-separated list of genes at the same location. Note: the file contains a multi-line header."
   ]
  },
  {
   "cell_type": "code",
   "execution_count": null,
   "metadata": {
    "collapsed": false
   },
   "outputs": [],
   "source": [
    "print(system(\"head ./data/chr1_reducedCols.txt\", intern=TRUE))"
   ]
  },
  {
   "cell_type": "markdown",
   "metadata": {},
   "source": [
    "## Connecting to Relational DBs in R\n",
    "\n",
    "We'll be connecting to the same DB as last time. The R package `RMySQL` will connect to the database using connection settings stored in a configuration file in your home directory (`~/.my.cnf`). The file should contain 'groups' of settings for databases that you connect to frequently. For example, the following should be entered in the configuration file to allow you to connect to a database called 'bmi535' (the square brackets indicate a 'group', and you can have multiple of these in the same file).\n",
    "\n",
    "    [bmi535]\n",
    "    host=localhost\n",
    "    user=mooneymi\n",
    "    password=mypassword\n",
    "    database=bmi535"
   ]
  },
  {
   "cell_type": "code",
   "execution_count": null,
   "metadata": {
    "collapsed": false
   },
   "outputs": [],
   "source": [
    "## Connect to the MySQL database using connection settings defined in ~/.my.cnf\n",
    "conn = dbConnect(RMySQL::MySQL(), group=\"bmi535\")"
   ]
  },
  {
   "cell_type": "code",
   "execution_count": null,
   "metadata": {
    "collapsed": false
   },
   "outputs": [],
   "source": [
    "## Let's query the DB\n",
    "system.time({query = \"SELECT * FROM snps WHERE chr = 1 AND pos = 225512846 AND loci = 'DNAH14';\"\n",
    "res = dbSendQuery(conn, query)\n",
    "rows = dbFetch(res)})"
   ]
  },
  {
   "cell_type": "code",
   "execution_count": null,
   "metadata": {
    "collapsed": false
   },
   "outputs": [],
   "source": [
    "rows\n",
    "dbClearResult(res)"
   ]
  },
  {
   "cell_type": "code",
   "execution_count": null,
   "metadata": {
    "collapsed": false
   },
   "outputs": [],
   "source": [
    "## Now let's query the DB using the indexed table\n",
    "system.time({query = \"SELECT * FROM snps_idx WHERE chr = 1 AND pos = 225512846 AND loci = 'DNAH14';\"\n",
    "res = dbSendQuery(conn, query)\n",
    "rows = dbFetch(res)})"
   ]
  },
  {
   "cell_type": "code",
   "execution_count": null,
   "metadata": {
    "collapsed": false
   },
   "outputs": [],
   "source": [
    "rows\n",
    "dbClearResult(res)"
   ]
  },
  {
   "cell_type": "code",
   "execution_count": null,
   "metadata": {
    "collapsed": false
   },
   "outputs": [],
   "source": [
    "dbDisconnect(conn)"
   ]
  },
  {
   "cell_type": "markdown",
   "metadata": {},
   "source": [
    "## `data.table`\n",
    "\n",
    "`data.table` implements what is essentially an optimized dataframe. "
   ]
  },
  {
   "cell_type": "code",
   "execution_count": null,
   "metadata": {
    "collapsed": false
   },
   "outputs": [],
   "source": [
    "## Let's start by loading the data into a standard R dataframe\n",
    "mem_used()\n",
    "system.time({snps = read.delim('./data/chr1_reducedCols.txt', header=F, skip=7, sep='\\t', \n",
    "                               col.names=c('rs', 'chr', 'pos', 'loci'), as.is=T, na.strings=c('NA', '', ' '))})\n",
    "mem_used()"
   ]
  },
  {
   "cell_type": "code",
   "execution_count": null,
   "metadata": {
    "collapsed": false
   },
   "outputs": [],
   "source": [
    "dim(snps)"
   ]
  },
  {
   "cell_type": "code",
   "execution_count": null,
   "metadata": {
    "collapsed": false
   },
   "outputs": [],
   "source": [
    "## View the first few rows\n",
    "head(snps)"
   ]
  },
  {
   "cell_type": "code",
   "execution_count": null,
   "metadata": {
    "collapsed": false
   },
   "outputs": [],
   "source": [
    "sapply(snps, class)"
   ]
  },
  {
   "cell_type": "code",
   "execution_count": null,
   "metadata": {
    "collapsed": false
   },
   "outputs": [],
   "source": [
    "## Search the dataframe for a specific row\n",
    "## Note: here we wrap the condition inside which() to exclude rows with NAs\n",
    "system.time({row = snps[which(with(snps, chr==1 & pos==225512846 & loci=='DNAH14')), ]})\n",
    "row"
   ]
  },
  {
   "cell_type": "code",
   "execution_count": null,
   "metadata": {
    "collapsed": false
   },
   "outputs": [],
   "source": [
    "system.time({row = snps[which(with(snps, pos==225512846)), ]})\n",
    "row"
   ]
  },
  {
   "cell_type": "markdown",
   "metadata": {
    "collapsed": true
   },
   "source": [
    "### Load Data into a `data.table`"
   ]
  },
  {
   "cell_type": "code",
   "execution_count": null,
   "metadata": {
    "collapsed": true
   },
   "outputs": [],
   "source": [
    "## Load SNP data into data.table\n",
    "snps_dt = as.data.table(snps)"
   ]
  },
  {
   "cell_type": "code",
   "execution_count": null,
   "metadata": {
    "collapsed": false
   },
   "outputs": [],
   "source": [
    "system.time({row = snps_dt[chr==1 & pos==225512846 & loci=='DNAH14',]})\n",
    "row"
   ]
  },
  {
   "cell_type": "code",
   "execution_count": null,
   "metadata": {
    "collapsed": true
   },
   "outputs": [],
   "source": [
    "## Add a key to the data.table\n",
    "setkey(snps_dt, pos)"
   ]
  },
  {
   "cell_type": "code",
   "execution_count": null,
   "metadata": {
    "collapsed": false
   },
   "outputs": [],
   "source": [
    "system.time({row = snps_dt[chr==1 & pos==225512846 & loci=='DNAH14']})\n",
    "row"
   ]
  },
  {
   "cell_type": "code",
   "execution_count": null,
   "metadata": {
    "collapsed": false
   },
   "outputs": [],
   "source": [
    "system.time({row = snps_dt[pos==225512846]})\n",
    "row"
   ]
  },
  {
   "cell_type": "code",
   "execution_count": null,
   "metadata": {
    "collapsed": true
   },
   "outputs": [],
   "source": []
  },
  {
   "cell_type": "markdown",
   "metadata": {},
   "source": [
    "## BigMemory\n",
    "\n",
    "The `bigmemory` package allows for storing large datasets in shared-memory and file-backed data structures. This allows for large data structures to be shared across multiple R processes to facilitate efficient parallel processing. \n",
    "\n",
    "One caveat is that `bigmemory` creates matrices, which will handle only a single data type, unlike dataframes. By default, character columns in dataframes will be converted to factors and factors converted to numeric levels. The `ff` package discussed below may be a better solution if you must have multiple data types in the same object."
   ]
  },
  {
   "cell_type": "code",
   "execution_count": null,
   "metadata": {
    "collapsed": false
   },
   "outputs": [],
   "source": [
    "## Let's create a file-backed bigmatrix object using only \n",
    "## the first 3 columns of the snps dataframe\n",
    "mem_used()\n",
    "snps_bm = as.big.matrix(snps[,1:3], type=\"integer\", backingfile=\"snps_bigmem.bin\", backingpath=\"./data\")\n",
    "mem_used()"
   ]
  },
  {
   "cell_type": "code",
   "execution_count": null,
   "metadata": {
    "collapsed": false
   },
   "outputs": [],
   "source": [
    "head(snps_bm)"
   ]
  },
  {
   "cell_type": "code",
   "execution_count": null,
   "metadata": {
    "collapsed": false
   },
   "outputs": [],
   "source": [
    "## Use the mwhich() function to query the bigmatrix object\n",
    "system.time({row = snps_bm[mwhich(snps_bm, c('chr','pos'), c(1, 225512846), c('eq', 'eq')), ]})\n",
    "row"
   ]
  },
  {
   "cell_type": "markdown",
   "metadata": {
    "collapsed": true
   },
   "source": [
    "The performance for searching is pretty poor, but keep in mind that `bigmemory` was designed with matrices in mind, not tables of heterogeneous data. "
   ]
  },
  {
   "cell_type": "code",
   "execution_count": null,
   "metadata": {
    "collapsed": true
   },
   "outputs": [],
   "source": []
  },
  {
   "cell_type": "markdown",
   "metadata": {},
   "source": [
    "## ff\n",
    "\n",
    "Similar to `bigmemory`, the `ff` packages allows for on-disk storage of large datasets with efficient data access and the ability to share the same data structure across multiple R processes."
   ]
  },
  {
   "cell_type": "code",
   "execution_count": null,
   "metadata": {
    "collapsed": false
   },
   "outputs": [],
   "source": [
    "getOption(\"fftempdir\")"
   ]
  },
  {
   "cell_type": "code",
   "execution_count": null,
   "metadata": {
    "collapsed": true
   },
   "outputs": [],
   "source": [
    "options(\"fftempdir\"=\"/Users/mooneymi/Documents/BMI535/Lectures/data\")"
   ]
  },
  {
   "cell_type": "code",
   "execution_count": null,
   "metadata": {
    "collapsed": false
   },
   "outputs": [],
   "source": [
    "getOption(\"fftempdir\")"
   ]
  },
  {
   "cell_type": "code",
   "execution_count": null,
   "metadata": {
    "collapsed": false
   },
   "outputs": [],
   "source": [
    "## Let's create a ffdf object\n",
    "mem_used()\n",
    "snps_ff = read.delim.ffdf(file='./data/chr1_reducedCols.txt', header=F, skip=7, sep='\\t')\n",
    "mem_used()"
   ]
  },
  {
   "cell_type": "code",
   "execution_count": null,
   "metadata": {
    "collapsed": false
   },
   "outputs": [],
   "source": [
    "colnames(snps_ff) = c('rs','chr','pos','loci')"
   ]
  },
  {
   "cell_type": "code",
   "execution_count": null,
   "metadata": {
    "collapsed": false
   },
   "outputs": [],
   "source": [
    "head(snps_ff)"
   ]
  },
  {
   "cell_type": "code",
   "execution_count": null,
   "metadata": {
    "collapsed": false
   },
   "outputs": [],
   "source": [
    "## Use the ffwhich() function to query the data\n",
    "system.time({row = snps_ff[ffwhich(snps_ff, chr==1 & pos==225512846 & loci=='DNAH14'), ]})\n",
    "row"
   ]
  },
  {
   "cell_type": "markdown",
   "metadata": {},
   "source": [
    "## HDF5\n",
    "\n",
    "The `rhdf5` package ..."
   ]
  },
  {
   "cell_type": "code",
   "execution_count": 2,
   "metadata": {
    "collapsed": false
   },
   "outputs": [
    {
     "data": {
      "text/html": [
       "<table>\n",
       "<thead><tr><th></th><th scope=col>group</th><th scope=col>name</th><th scope=col>otype</th><th scope=col>dclass</th><th scope=col>dim</th></tr></thead>\n",
       "<tbody>\n",
       "\t<tr><th scope=row>0</th><td>/                 </td><td>snps              </td><td>H5I_GROUP         </td><td>                  </td><td>                  </td></tr>\n",
       "\t<tr><th scope=row>1</th><td>/snps             </td><td>_i_table          </td><td>H5I_GROUP         </td><td>                  </td><td>                  </td></tr>\n",
       "\t<tr><th scope=row>2</th><td>/snps/_i_table    </td><td>pos               </td><td>H5I_GROUP         </td><td>                  </td><td>                  </td></tr>\n",
       "\t<tr><th scope=row>3</th><td>/snps/_i_table/pos</td><td>abounds           </td><td>H5I_DATASET       </td><td>FLOAT             </td><td>2720              </td></tr>\n",
       "\t<tr><th scope=row>4</th><td>/snps/_i_table/pos</td><td>bounds            </td><td>H5I_DATASET       </td><td>FLOAT             </td><td>271 x 10          </td></tr>\n",
       "\t<tr><th scope=row>5</th><td>/snps/_i_table/pos</td><td>indices           </td><td>H5I_DATASET       </td><td>INTEGER           </td><td>1114112 x 10      </td></tr>\n",
       "\t<tr><th scope=row>6</th><td>/snps/_i_table/pos</td><td>indicesLR         </td><td>H5I_DATASET       </td><td>INTEGER           </td><td>1114112           </td></tr>\n",
       "\t<tr><th scope=row>7</th><td>/snps/_i_table/pos</td><td>mbounds           </td><td>H5I_DATASET       </td><td>FLOAT             </td><td>2720              </td></tr>\n",
       "\t<tr><th scope=row>8</th><td>/snps/_i_table/pos</td><td>mranges           </td><td>H5I_DATASET       </td><td>FLOAT             </td><td>10                </td></tr>\n",
       "\t<tr><th scope=row>9</th><td>/snps/_i_table/pos</td><td>ranges            </td><td>H5I_DATASET       </td><td>FLOAT             </td><td>2 x 10            </td></tr>\n",
       "\t<tr><th scope=row>10</th><td>/snps/_i_table/pos</td><td>sorted            </td><td>H5I_DATASET       </td><td>FLOAT             </td><td>1114112 x 10      </td></tr>\n",
       "\t<tr><th scope=row>11</th><td>/snps/_i_table/pos</td><td>sortedLR          </td><td>H5I_DATASET       </td><td>FLOAT             </td><td>1114385           </td></tr>\n",
       "\t<tr><th scope=row>12</th><td>/snps/_i_table/pos</td><td>zbounds           </td><td>H5I_DATASET       </td><td>FLOAT             </td><td>2720              </td></tr>\n",
       "\t<tr><th scope=row>13</th><td>/snps             </td><td>table             </td><td>H5I_DATASET       </td><td>COMPOUND          </td><td>12237943          </td></tr>\n",
       "</tbody>\n",
       "</table>\n"
      ],
      "text/latex": [
       "\\begin{tabular}{r|lllll}\n",
       "  & group & name & otype & dclass & dim\\\\\n",
       "\\hline\n",
       "\t0 & /                  & snps               & H5I\\_GROUP        &                    &                   \\\\\n",
       "\t1 & /snps              & \\_i\\_table       & H5I\\_GROUP        &                    &                   \\\\\n",
       "\t2 & /snps/\\_i\\_table     & pos                    & H5I\\_GROUP            &                        &                       \\\\\n",
       "\t3 & /snps/\\_i\\_table/pos & abounds                & H5I\\_DATASET          & FLOAT                  & 2720                  \\\\\n",
       "\t4 & /snps/\\_i\\_table/pos & bounds                 & H5I\\_DATASET          & FLOAT                  & 271 x 10              \\\\\n",
       "\t5 & /snps/\\_i\\_table/pos & indices                & H5I\\_DATASET          & INTEGER                & 1114112 x 10          \\\\\n",
       "\t6 & /snps/\\_i\\_table/pos & indicesLR              & H5I\\_DATASET          & INTEGER                & 1114112               \\\\\n",
       "\t7 & /snps/\\_i\\_table/pos & mbounds                & H5I\\_DATASET          & FLOAT                  & 2720                  \\\\\n",
       "\t8 & /snps/\\_i\\_table/pos & mranges                & H5I\\_DATASET          & FLOAT                  & 10                    \\\\\n",
       "\t9 & /snps/\\_i\\_table/pos & ranges                 & H5I\\_DATASET          & FLOAT                  & 2 x 10                \\\\\n",
       "\t10 & /snps/\\_i\\_table/pos & sorted                 & H5I\\_DATASET          & FLOAT                  & 1114112 x 10          \\\\\n",
       "\t11 & /snps/\\_i\\_table/pos & sortedLR               & H5I\\_DATASET          & FLOAT                  & 1114385               \\\\\n",
       "\t12 & /snps/\\_i\\_table/pos & zbounds                & H5I\\_DATASET          & FLOAT                  & 2720                  \\\\\n",
       "\t13 & /snps              & table              & H5I\\_DATASET      & COMPOUND           & 12237943          \\\\\n",
       "\\end{tabular}\n"
      ],
      "text/markdown": [
       "\n",
       "| <!--/--> | group | name | otype | dclass | dim | \n",
       "|---|---|---|---|---|---|---|---|---|---|---|---|---|---|\n",
       "| 0 | /                  | snps               | H5I_GROUP          |                    |                    | \n",
       "| 1 | /snps              | _i_table           | H5I_GROUP          |                    |                    | \n",
       "| 2 | /snps/_i_table     | pos                | H5I_GROUP          |                    |                    | \n",
       "| 3 | /snps/_i_table/pos | abounds            | H5I_DATASET        | FLOAT              | 2720               | \n",
       "| 4 | /snps/_i_table/pos | bounds             | H5I_DATASET        | FLOAT              | 271 x 10           | \n",
       "| 5 | /snps/_i_table/pos | indices            | H5I_DATASET        | INTEGER            | 1114112 x 10       | \n",
       "| 6 | /snps/_i_table/pos | indicesLR          | H5I_DATASET        | INTEGER            | 1114112            | \n",
       "| 7 | /snps/_i_table/pos | mbounds            | H5I_DATASET        | FLOAT              | 2720               | \n",
       "| 8 | /snps/_i_table/pos | mranges            | H5I_DATASET        | FLOAT              | 10                 | \n",
       "| 9 | /snps/_i_table/pos | ranges             | H5I_DATASET        | FLOAT              | 2 x 10             | \n",
       "| 10 | /snps/_i_table/pos | sorted             | H5I_DATASET        | FLOAT              | 1114112 x 10       | \n",
       "| 11 | /snps/_i_table/pos | sortedLR           | H5I_DATASET        | FLOAT              | 1114385            | \n",
       "| 12 | /snps/_i_table/pos | zbounds            | H5I_DATASET        | FLOAT              | 2720               | \n",
       "| 13 | /snps              | table              | H5I_DATASET        | COMPOUND           | 12237943           | \n",
       "\n",
       "\n"
      ],
      "text/plain": [
       "   group              name      otype       dclass   dim         \n",
       "0  /                  snps      H5I_GROUP                        \n",
       "1  /snps              _i_table  H5I_GROUP                        \n",
       "2  /snps/_i_table     pos       H5I_GROUP                        \n",
       "3  /snps/_i_table/pos abounds   H5I_DATASET FLOAT    2720        \n",
       "4  /snps/_i_table/pos bounds    H5I_DATASET FLOAT    271 x 10    \n",
       "5  /snps/_i_table/pos indices   H5I_DATASET INTEGER  1114112 x 10\n",
       "6  /snps/_i_table/pos indicesLR H5I_DATASET INTEGER  1114112     \n",
       "7  /snps/_i_table/pos mbounds   H5I_DATASET FLOAT    2720        \n",
       "8  /snps/_i_table/pos mranges   H5I_DATASET FLOAT    10          \n",
       "9  /snps/_i_table/pos ranges    H5I_DATASET FLOAT    2 x 10      \n",
       "10 /snps/_i_table/pos sorted    H5I_DATASET FLOAT    1114112 x 10\n",
       "11 /snps/_i_table/pos sortedLR  H5I_DATASET FLOAT    1114385     \n",
       "12 /snps/_i_table/pos zbounds   H5I_DATASET FLOAT    2720        \n",
       "13 /snps              table     H5I_DATASET COMPOUND 12237943    "
      ]
     },
     "metadata": {},
     "output_type": "display_data"
    }
   ],
   "source": [
    "## Let's use the rhdf5 package to look at our previously saved HDF5 file\n",
    " h5ls('./data/snps_pandas_hdf_zlib.h5')"
   ]
  },
  {
   "cell_type": "code",
   "execution_count": 4,
   "metadata": {
    "collapsed": false
   },
   "outputs": [],
   "source": [
    "snps_hdf5 = h5read('./data/snps_pandas_hdf_zlib.h5', 'snps/table', bit64conversion='bit64')"
   ]
  },
  {
   "cell_type": "code",
   "execution_count": null,
   "metadata": {
    "collapsed": false
   },
   "outputs": [],
   "source": [
    "snps_hdf5"
   ]
  },
  {
   "cell_type": "code",
   "execution_count": null,
   "metadata": {
    "collapsed": false
   },
   "outputs": [],
   "source": [
    "H5close()"
   ]
  },
  {
   "cell_type": "code",
   "execution_count": null,
   "metadata": {
    "collapsed": false
   },
   "outputs": [],
   "source": [
    "getwd()"
   ]
  },
  {
   "cell_type": "markdown",
   "metadata": {},
   "source": [
    "## In-Class Exercises"
   ]
  },
  {
   "cell_type": "code",
   "execution_count": null,
   "metadata": {
    "collapsed": true
   },
   "outputs": [],
   "source": []
  },
  {
   "cell_type": "code",
   "execution_count": null,
   "metadata": {
    "collapsed": true
   },
   "outputs": [],
   "source": []
  },
  {
   "cell_type": "markdown",
   "metadata": {},
   "source": [
    "## References"
   ]
  },
  {
   "cell_type": "code",
   "execution_count": null,
   "metadata": {
    "collapsed": true
   },
   "outputs": [],
   "source": []
  },
  {
   "cell_type": "markdown",
   "metadata": {},
   "source": [
    "#### Last Updated: 11-Aug-2017"
   ]
  },
  {
   "cell_type": "code",
   "execution_count": null,
   "metadata": {
    "collapsed": true
   },
   "outputs": [],
   "source": []
  }
 ],
 "metadata": {
  "anaconda-cloud": {},
  "kernelspec": {
   "display_name": "R",
   "language": "R",
   "name": "ir"
  },
  "language_info": {
   "codemirror_mode": "r",
   "file_extension": ".r",
   "mimetype": "text/x-r-source",
   "name": "R",
   "pygments_lexer": "r",
   "version": "3.3.2"
  }
 },
 "nbformat": 4,
 "nbformat_minor": 0
}
